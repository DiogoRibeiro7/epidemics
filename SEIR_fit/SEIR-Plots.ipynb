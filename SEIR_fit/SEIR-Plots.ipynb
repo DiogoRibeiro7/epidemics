{
 "cells": [
  {
   "cell_type": "markdown",
   "metadata": {},
   "source": [
    "\n",
    "# Simulation of the spread of SARS-CoV-2 with the SEIR model\n",
    "\n",
    "The SEIR model uses a system of differential equations to simulate the pandemic. The Python module SciPy contains the functions 'odeint ()' and 'curve_fit ()' to calculate the SEIR model and to optimize some selected parameters so that they match the case numbers for Portugal reported by the John Hopkins University.\n",
    "\n",
    "The simulation starts with a few imports:"
   ]
  },
  {
   "cell_type": "code",
   "execution_count": 1,
   "metadata": {},
   "outputs": [],
   "source": [
    "from IPython.display import display, Markdown, SVG\n",
    "from equations import SEIR\n",
    "from scipy.integrate import odeint\n",
    "from scipy.optimize import curve_fit\n",
    "import datetime as dt\n",
    "import numpy as np\n",
    "import pandas as pd\n",
    "import altair as alt\n",
    "import requests\n",
    "import os\n",
    "from altair_saver import save"
   ]
  },
  {
   "cell_type": "markdown",
   "metadata": {},
   "source": [
    "The implementation of the model is in the class `SEIR` in [equations.py] \n",
    "\n",
    "The following web service conveniently already provides current figures from John Hopkins University as JSON (the edition contains the latest four numbers):"
   ]
  },
  {
   "cell_type": "code",
   "execution_count": 2,
   "metadata": {},
   "outputs": [
    {
     "data": {
      "text/html": [
       "<div>\n",
       "<style scoped>\n",
       "    .dataframe tbody tr th:only-of-type {\n",
       "        vertical-align: middle;\n",
       "    }\n",
       "\n",
       "    .dataframe tbody tr th {\n",
       "        vertical-align: top;\n",
       "    }\n",
       "\n",
       "    .dataframe thead th {\n",
       "        text-align: right;\n",
       "    }\n",
       "</style>\n",
       "<table border=\"1\" class=\"dataframe\">\n",
       "  <thead>\n",
       "    <tr style=\"text-align: right;\">\n",
       "      <th></th>\n",
       "      <th>Tag</th>\n",
       "      <th>Number of cases</th>\n",
       "    </tr>\n",
       "  </thead>\n",
       "  <tbody>\n",
       "    <tr>\n",
       "      <th>106</th>\n",
       "      <td>2020-05-07</td>\n",
       "      <td>26715</td>\n",
       "    </tr>\n",
       "    <tr>\n",
       "      <th>107</th>\n",
       "      <td>2020-05-08</td>\n",
       "      <td>27268</td>\n",
       "    </tr>\n",
       "    <tr>\n",
       "      <th>108</th>\n",
       "      <td>2020-05-09</td>\n",
       "      <td>27406</td>\n",
       "    </tr>\n",
       "    <tr>\n",
       "      <th>109</th>\n",
       "      <td>2020-05-10</td>\n",
       "      <td>27581</td>\n",
       "    </tr>\n",
       "  </tbody>\n",
       "</table>\n",
       "</div>"
      ],
      "text/plain": [
       "           Tag Number of cases\n",
       "106 2020-05-07           26715\n",
       "107 2020-05-08           27268\n",
       "108 2020-05-09           27406\n",
       "109 2020-05-10           27581"
      ]
     },
     "execution_count": 2,
     "metadata": {},
     "output_type": "execute_result"
    }
   ],
   "source": [
    "portugal_json = requests.get(\"https://corona.ersatzworld.net/data/Portugal.json\").json()\n",
    "first_date = dt.datetime.strptime(portugal_json[\"first_date\"], \"%Y-%m-%d\")\n",
    "data = pd.DataFrame(np.stack([\n",
    "        [first_date + dt.timedelta(days=i) for i in range(len(portugal_json[\"total\"]))], \n",
    "        portugal_json[\"total\"]\n",
    "    ], axis=1), \n",
    "    columns=(\"Tag\", \"Number of cases\"))\n",
    "data.tail(4)\n"
   ]
  },
  {
   "cell_type": "markdown",
   "metadata": {},
   "source": [
    "The next step calculates the `SEIR` model and fits four parameters so that the model fits the data from` data` as closely as possible.\n",
    "\n",
    "The simulation starts on March 2, 2020 (first line). On March 14, 2020 and March 20, 2020, exit restrictions and a contact block affected the numbers, so that the SEIR model assumed different values ​​for $ R_ {0} $ for the periods before, between and after these dates. These three values ​​are the first three parameters of optimization with `curve_fit ()`. As a fourth parameter, the optimization also determines the unknown value $ E_ {0} $, the number of infected but not yet infectious corona patients on March 2."
   ]
  },
  {
   "cell_type": "code",
   "execution_count": 3,
   "metadata": {},
   "outputs": [
    {
     "data": {
      "text/markdown": [
       "Result of the optimization with `curve_fit()`:\n",
       "\n",
       " 1. $R_{0}$ without restrictions: 1.683\n",
       "\n",
       " 2. $R_{0}$ with exit restrictions: 2.867\n",
       "\n",
       " 3. $R_{0}$ with contact lock: 1.075\n",
       "\n",
       " 4. $R_{0}$ with relaxed contact lock (shops up to 800m² open): 0.645\n",
       "\n",
       " 5. $E_{0}$: 135.3"
      ],
      "text/plain": [
       "<IPython.core.display.Markdown object>"
      ]
     },
     "metadata": {},
     "output_type": "display_data"
    }
   ],
   "source": [
    "data = data[data[\"Tag\"] >= dt.datetime(year=2020, month=2, day=21)].reset_index(drop=True)\n",
    "\n",
    "it1 = dt.datetime(year=2020, month=3, day=20)\n",
    "it2 = dt.datetime(year=2020, month=3, day=28)\n",
    "it3 = dt.datetime(year=2020, month=4, day=26)\n",
    "it4 = dt.datetime(year=2020, month=5, day=11)\n",
    "it5 = dt.datetime(year=2020, month=8, day=1)\n",
    "cases = np.array(data[\"Number of cases\"])\n",
    "bev_de = portugal_json[\"population\"]\n",
    "times = np.arange(0., len(cases), 1.0)\n",
    "model = SEIR(p0=(bev_de-data[\"Number of cases\"][0], 0, data[\"Number of cases\"][0], 0),\n",
    "             intervention_times=[(it1-data[\"Tag\"][0]).days, \n",
    "                                 (it2-data[\"Tag\"][0]).days, \n",
    "                                 (it3-data[\"Tag\"][0]).days,\n",
    "                                 (data[\"Tag\"][len(cases)-1]-data[\"Tag\"][0]).days, \n",
    "                                 (data[\"Tag\"][len(cases)-1]-data[\"Tag\"][0]).days],\n",
    "             t_vals=times)\n",
    "\n",
    "params, _ = curve_fit(\n",
    "    model, \n",
    "    xdata=times, \n",
    "    ydata=cases,\n",
    "    p0=[3.7, 2.7, 0.8, 0.8, 0.],\n",
    "    bounds=(\n",
    "        [0., 0., 0., 0., 0.],\n",
    "        [10., 10., 10., 10., bev_de]\n",
    "    )\n",
    ")\n",
    "display(Markdown(\"Result of the optimization with `curve_fit()`:\\n\\n\" +\n",
    "    \" 1. $R_{0}$ \" + \"without restrictions: {0:.3f}\".format(params[0]) + \"\\n\\n\" +\n",
    "    \" 2. $R_{0}$ \" + \"with exit restrictions: {0:.3f}\".format(params[1]) + \"\\n\\n\" +\n",
    "    \" 3. $R_{0}$ \" + \"with contact lock: {0:.3f}\".format(params[2]) + \"\\n\\n\" +\n",
    "    \" 4. $R_{0}$ \" + \"with relaxed contact lock (shops up to 800m² open): {0:.3f}\".format(params[3]) + \"\\n\\n\" +             \n",
    "    \" 5. $E_{0}$\" + \": {0:.1f}\".format(params[4])))\n"
   ]
  },
  {
   "cell_type": "markdown",
   "metadata": {},
   "source": [
    "With these parameters, the following code calculates the model's predictions for 5 days into the future:"
   ]
  },
  {
   "cell_type": "code",
   "execution_count": 4,
   "metadata": {},
   "outputs": [],
   "source": [
    "r0, r1, r2, r3, e0 = params\n",
    "prediction_days = 5\n",
    "times = np.arange(0., len(cases)+prediction_days, 1.0)\n",
    "seir_predictions = model.getSEIR(times, [r0, r1, r2, r3, r3, r3], e0)\n",
    "sum_predictions = np.sum(seir_predictions[:, 1:], axis=1)"
   ]
  },
  {
   "cell_type": "markdown",
   "metadata": {},
   "source": [
    "The number of \"susceptible\" people, who could still be infected but have not yet been infected, is very high at the beginning of the simulation (slightly less than the population). A diagram that shows 10 million and 100,000 with the same y-axis would only show the interesting case numbers very small above the x-axis. To prevent this from happening, the function `clip_values ()` sets high values to `None`:"
   ]
  },
  {
   "cell_type": "code",
   "execution_count": 5,
   "metadata": {},
   "outputs": [],
   "source": [
    "def clip_values(v, max_val=bev_de):\n",
    "    return np.where(np.less_equal(v, max_val), v, None)"
   ]
  },
  {
   "cell_type": "markdown",
   "metadata": {},
   "source": [
    "In preparation for a diagram that shows how well the simulation fits the real data, the following lines pack the necessary data series one after the other into a Pandas `Data Frame`. Using the `` Type '' column, Alatair later assigns the colors of the individual curves in the diagram."
   ]
  },
  {
   "cell_type": "code",
   "execution_count": 6,
   "metadata": {},
   "outputs": [
    {
     "data": {
      "text/html": [
       "<div>\n",
       "<style scoped>\n",
       "    .dataframe tbody tr th:only-of-type {\n",
       "        vertical-align: middle;\n",
       "    }\n",
       "\n",
       "    .dataframe tbody tr th {\n",
       "        vertical-align: top;\n",
       "    }\n",
       "\n",
       "    .dataframe thead th {\n",
       "        text-align: right;\n",
       "    }\n",
       "</style>\n",
       "<table border=\"1\" class=\"dataframe\">\n",
       "  <thead>\n",
       "    <tr style=\"text-align: right;\">\n",
       "      <th></th>\n",
       "      <th>Tag</th>\n",
       "      <th>Number of cases</th>\n",
       "      <th>Type</th>\n",
       "    </tr>\n",
       "  </thead>\n",
       "  <tbody>\n",
       "    <tr>\n",
       "      <th>0</th>\n",
       "      <td>2020-02-21</td>\n",
       "      <td>None</td>\n",
       "      <td>Susceptible</td>\n",
       "    </tr>\n",
       "    <tr>\n",
       "      <th>1</th>\n",
       "      <td>2020-02-22</td>\n",
       "      <td>None</td>\n",
       "      <td>Susceptible</td>\n",
       "    </tr>\n",
       "    <tr>\n",
       "      <th>2</th>\n",
       "      <td>2020-02-23</td>\n",
       "      <td>None</td>\n",
       "      <td>Susceptible</td>\n",
       "    </tr>\n",
       "    <tr>\n",
       "      <th>3</th>\n",
       "      <td>2020-02-24</td>\n",
       "      <td>None</td>\n",
       "      <td>Susceptible</td>\n",
       "    </tr>\n",
       "    <tr>\n",
       "      <th>4</th>\n",
       "      <td>2020-02-25</td>\n",
       "      <td>None</td>\n",
       "      <td>Susceptible</td>\n",
       "    </tr>\n",
       "    <tr>\n",
       "      <th>...</th>\n",
       "      <td>...</td>\n",
       "      <td>...</td>\n",
       "      <td>...</td>\n",
       "    </tr>\n",
       "    <tr>\n",
       "      <th>500</th>\n",
       "      <td>2020-05-06</td>\n",
       "      <td>26182</td>\n",
       "      <td>counted cases</td>\n",
       "    </tr>\n",
       "    <tr>\n",
       "      <th>501</th>\n",
       "      <td>2020-05-07</td>\n",
       "      <td>26715</td>\n",
       "      <td>counted cases</td>\n",
       "    </tr>\n",
       "    <tr>\n",
       "      <th>502</th>\n",
       "      <td>2020-05-08</td>\n",
       "      <td>27268</td>\n",
       "      <td>counted cases</td>\n",
       "    </tr>\n",
       "    <tr>\n",
       "      <th>503</th>\n",
       "      <td>2020-05-09</td>\n",
       "      <td>27406</td>\n",
       "      <td>counted cases</td>\n",
       "    </tr>\n",
       "    <tr>\n",
       "      <th>504</th>\n",
       "      <td>2020-05-10</td>\n",
       "      <td>27581</td>\n",
       "      <td>counted cases</td>\n",
       "    </tr>\n",
       "  </tbody>\n",
       "</table>\n",
       "<p>505 rows × 3 columns</p>\n",
       "</div>"
      ],
      "text/plain": [
       "           Tag Number of cases           Type\n",
       "0   2020-02-21            None    Susceptible\n",
       "1   2020-02-22            None    Susceptible\n",
       "2   2020-02-23            None    Susceptible\n",
       "3   2020-02-24            None    Susceptible\n",
       "4   2020-02-25            None    Susceptible\n",
       "..         ...             ...            ...\n",
       "500 2020-05-06           26182  counted cases\n",
       "501 2020-05-07           26715  counted cases\n",
       "502 2020-05-08           27268  counted cases\n",
       "503 2020-05-09           27406  counted cases\n",
       "504 2020-05-10           27581  counted cases\n",
       "\n",
       "[505 rows x 3 columns]"
      ]
     },
     "execution_count": 6,
     "metadata": {},
     "output_type": "execute_result"
    }
   ],
   "source": [
    "dates = [data[\"Tag\"][0] + dt.timedelta(days=i) for i in times]\n",
    "seir_data = pd.DataFrame(np.concatenate([\n",
    "    np.concatenate([np.stack([dates, clip_values(seir_predictions[:, i], cases[-1]*1.2), [t]*len(times)], axis=1)\n",
    "                    for i, t in enumerate([\"Susceptible\", \"Exposed\", \"Infectious\", \"Removed\"])]),\n",
    "    np.stack([dates, clip_values(sum_predictions, cases[-1]*1.2), [\"simulated sum\"]*len(times)], axis=1)]),\n",
    "    columns=(\"Tag\", \"Number of cases\", \"Type\")\n",
    ")\n",
    "data[\"Type\"] = \"counted cases\"\n",
    "seir_data = seir_data.append(data, ignore_index=True)\n",
    "seir_data"
   ]
  },
  {
   "cell_type": "markdown",
   "metadata": {},
   "source": [
    "The following function creates a diagram with several levels: The curves and the legend draw `line`. The `selection`` nearest` uses the interactive diagram to select the day that best fits the position of the mouse. `points` draws little squiggles over the values of the curve on that day. `text` supplements the numerical value of the curled values. `rules` draws a gray line that highlights the day and` date_text` writes out the day as text at the top of the diagram. The function `alt.layer ()` combines all these elements in a diagram.\n",
    "\n",
    "In addition to the data frame, the `plot ()` function also accepts optional parameters for the position of the legend and the dimensions of the entire diagram. The notebook later uses them for other diagrams with different scales."
   ]
  },
  {
   "cell_type": "code",
   "execution_count": 7,
   "metadata": {},
   "outputs": [
    {
     "data": {
      "text/html": [
       "\n",
       "<div id=\"altair-viz-873b4917c16949bc9bf1e7d650957363\"></div>\n",
       "<script type=\"text/javascript\">\n",
       "  (function(spec, embedOpt){\n",
       "    let outputDiv = document.currentScript.previousElementSibling;\n",
       "    if (outputDiv.id !== \"altair-viz-873b4917c16949bc9bf1e7d650957363\") {\n",
       "      outputDiv = document.getElementById(\"altair-viz-873b4917c16949bc9bf1e7d650957363\");\n",
       "    }\n",
       "    const paths = {\n",
       "      \"vega\": \"https://cdn.jsdelivr.net/npm//vega@5?noext\",\n",
       "      \"vega-lib\": \"https://cdn.jsdelivr.net/npm//vega-lib?noext\",\n",
       "      \"vega-lite\": \"https://cdn.jsdelivr.net/npm//vega-lite@4.8.1?noext\",\n",
       "      \"vega-embed\": \"https://cdn.jsdelivr.net/npm//vega-embed@6?noext\",\n",
       "    };\n",
       "\n",
       "    function loadScript(lib) {\n",
       "      return new Promise(function(resolve, reject) {\n",
       "        var s = document.createElement('script');\n",
       "        s.src = paths[lib];\n",
       "        s.async = true;\n",
       "        s.onload = () => resolve(paths[lib]);\n",
       "        s.onerror = () => reject(`Error loading script: ${paths[lib]}`);\n",
       "        document.getElementsByTagName(\"head\")[0].appendChild(s);\n",
       "      });\n",
       "    }\n",
       "\n",
       "    function showError(err) {\n",
       "      outputDiv.innerHTML = `<div class=\"error\" style=\"color:red;\">${err}</div>`;\n",
       "      throw err;\n",
       "    }\n",
       "\n",
       "    function displayChart(vegaEmbed) {\n",
       "      vegaEmbed(outputDiv, spec, embedOpt)\n",
       "        .catch(err => showError(`Javascript Error: ${err.message}<br>This usually means there's a typo in your chart specification. See the javascript console for the full traceback.`));\n",
       "    }\n",
       "\n",
       "    if(typeof define === \"function\" && define.amd) {\n",
       "      requirejs.config({paths});\n",
       "      require([\"vega-embed\"], displayChart, err => showError(`Error loading script: ${err.message}`));\n",
       "    } else if (typeof vegaEmbed === \"function\") {\n",
       "      displayChart(vegaEmbed);\n",
       "    } else {\n",
       "      loadScript(\"vega\")\n",
       "        .then(() => loadScript(\"vega-lite\"))\n",
       "        .then(() => loadScript(\"vega-embed\"))\n",
       "        .catch(showError)\n",
       "        .then(() => displayChart(vegaEmbed));\n",
       "    }\n",
       "  })({\"config\": {\"view\": {\"continuousWidth\": 400, \"continuousHeight\": 300}}, \"layer\": [{\"mark\": {\"type\": \"line\", \"point\": false}, \"encoding\": {\"color\": {\"type\": \"nominal\", \"field\": \"Type\", \"legend\": {\"cornerRadius\": 7, \"fillColor\": \"white\", \"legendX\": 20, \"legendY\": 20, \"orient\": \"none\", \"padding\": 6, \"strokeColor\": \"black\", \"title\": \"Groups\"}, \"scale\": {\"scheme\": \"dark2\"}}, \"x\": {\"type\": \"temporal\", \"field\": \"Tag\", \"title\": \"Tag\"}, \"y\": {\"type\": \"quantitative\", \"field\": \"Number of cases\", \"title\": \"Number of Cases\"}}}, {\"mark\": \"point\", \"encoding\": {\"opacity\": {\"value\": 0}, \"x\": {\"type\": \"temporal\", \"field\": \"Tag\", \"title\": \"Tag\"}}, \"selection\": {\"selector001\": {\"type\": \"single\", \"nearest\": true, \"on\": \"mouseover\", \"fields\": [\"Tag\"], \"empty\": \"none\"}}}, {\"mark\": \"point\", \"encoding\": {\"color\": {\"type\": \"nominal\", \"field\": \"Type\", \"legend\": {\"cornerRadius\": 7, \"fillColor\": \"white\", \"legendX\": 20, \"legendY\": 20, \"orient\": \"none\", \"padding\": 6, \"strokeColor\": \"black\", \"title\": \"Groups\"}, \"scale\": {\"scheme\": \"dark2\"}}, \"opacity\": {\"condition\": {\"value\": 1, \"selection\": \"selector001\"}, \"value\": 0}, \"x\": {\"type\": \"temporal\", \"field\": \"Tag\", \"title\": \"Tag\"}, \"y\": {\"type\": \"quantitative\", \"field\": \"Number of cases\", \"title\": \"Number of Cases\"}}}, {\"mark\": {\"type\": \"rule\", \"color\": \"gray\"}, \"encoding\": {\"x\": {\"type\": \"temporal\", \"field\": \"Tag\", \"title\": \"Tag\"}}, \"transform\": [{\"filter\": {\"selection\": \"selector001\"}}]}, {\"mark\": {\"type\": \"text\", \"align\": \"left\", \"dx\": 4, \"dy\": -8}, \"encoding\": {\"color\": {\"type\": \"nominal\", \"field\": \"Type\", \"legend\": {\"cornerRadius\": 7, \"fillColor\": \"white\", \"legendX\": 20, \"legendY\": 20, \"orient\": \"none\", \"padding\": 6, \"strokeColor\": \"black\", \"title\": \"Groups\"}, \"scale\": {\"scheme\": \"dark2\"}}, \"text\": {\"condition\": {\"type\": \"quantitative\", \"field\": \"Number of cases\", \"selection\": \"selector001\"}, \"value\": \" \"}, \"x\": {\"type\": \"temporal\", \"field\": \"Tag\", \"title\": \"Tag\"}, \"y\": {\"type\": \"quantitative\", \"field\": \"Number of cases\", \"title\": \"Number of Cases\"}}}, {\"mark\": {\"type\": \"text\", \"align\": \"left\", \"dx\": 4, \"dy\": -8}, \"encoding\": {\"color\": {\"value\": \"gray\"}, \"text\": {\"condition\": {\"type\": \"temporal\", \"field\": \"Tag\", \"selection\": \"selector001\"}, \"value\": \" \"}, \"x\": {\"type\": \"temporal\", \"field\": \"Tag\", \"title\": \"Tag\"}, \"y\": {\"value\": 16}}, \"transform\": [{\"filter\": {\"selection\": \"selector001\"}}]}], \"data\": {\"name\": \"data-961b5c7763c93f6ba78b152e0e573fd7\"}, \"height\": 400, \"width\": 830, \"$schema\": \"https://vega.github.io/schema/vega-lite/v4.8.1.json\", \"datasets\": {\"data-961b5c7763c93f6ba78b152e0e573fd7\": [{\"Tag\": \"2020-02-21T00:00:00\", \"Number of cases\": null, \"Type\": \"Susceptible\"}, {\"Tag\": \"2020-02-22T00:00:00\", \"Number of cases\": null, \"Type\": \"Susceptible\"}, {\"Tag\": \"2020-02-23T00:00:00\", \"Number of cases\": null, \"Type\": \"Susceptible\"}, {\"Tag\": \"2020-02-24T00:00:00\", \"Number of cases\": null, \"Type\": \"Susceptible\"}, {\"Tag\": \"2020-02-25T00:00:00\", \"Number of cases\": null, \"Type\": \"Susceptible\"}, {\"Tag\": \"2020-02-26T00:00:00\", \"Number of cases\": null, \"Type\": \"Susceptible\"}, {\"Tag\": \"2020-02-27T00:00:00\", \"Number of cases\": null, \"Type\": \"Susceptible\"}, {\"Tag\": \"2020-02-28T00:00:00\", \"Number of cases\": null, \"Type\": \"Susceptible\"}, {\"Tag\": \"2020-02-29T00:00:00\", \"Number of cases\": null, \"Type\": \"Susceptible\"}, {\"Tag\": \"2020-03-01T00:00:00\", \"Number of cases\": null, \"Type\": \"Susceptible\"}, {\"Tag\": \"2020-03-02T00:00:00\", \"Number of cases\": null, \"Type\": \"Susceptible\"}, {\"Tag\": \"2020-03-03T00:00:00\", \"Number of cases\": null, \"Type\": \"Susceptible\"}, {\"Tag\": \"2020-03-04T00:00:00\", \"Number of cases\": null, \"Type\": \"Susceptible\"}, {\"Tag\": \"2020-03-05T00:00:00\", \"Number of cases\": null, \"Type\": \"Susceptible\"}, {\"Tag\": \"2020-03-06T00:00:00\", \"Number of cases\": null, \"Type\": \"Susceptible\"}, {\"Tag\": \"2020-03-07T00:00:00\", \"Number of cases\": null, \"Type\": \"Susceptible\"}, {\"Tag\": \"2020-03-08T00:00:00\", \"Number of cases\": null, \"Type\": \"Susceptible\"}, {\"Tag\": \"2020-03-09T00:00:00\", \"Number of cases\": null, \"Type\": \"Susceptible\"}, {\"Tag\": \"2020-03-10T00:00:00\", \"Number of cases\": null, \"Type\": \"Susceptible\"}, {\"Tag\": \"2020-03-11T00:00:00\", \"Number of cases\": null, \"Type\": \"Susceptible\"}, {\"Tag\": \"2020-03-12T00:00:00\", \"Number of cases\": null, \"Type\": \"Susceptible\"}, {\"Tag\": \"2020-03-13T00:00:00\", \"Number of cases\": null, \"Type\": \"Susceptible\"}, {\"Tag\": \"2020-03-14T00:00:00\", \"Number of cases\": null, \"Type\": \"Susceptible\"}, {\"Tag\": \"2020-03-15T00:00:00\", \"Number of cases\": null, \"Type\": \"Susceptible\"}, {\"Tag\": \"2020-03-16T00:00:00\", \"Number of cases\": null, \"Type\": \"Susceptible\"}, {\"Tag\": \"2020-03-17T00:00:00\", \"Number of cases\": null, \"Type\": \"Susceptible\"}, {\"Tag\": \"2020-03-18T00:00:00\", \"Number of cases\": null, \"Type\": \"Susceptible\"}, {\"Tag\": \"2020-03-19T00:00:00\", \"Number of cases\": null, \"Type\": \"Susceptible\"}, {\"Tag\": \"2020-03-20T00:00:00\", \"Number of cases\": null, \"Type\": \"Susceptible\"}, {\"Tag\": \"2020-03-21T00:00:00\", \"Number of cases\": null, \"Type\": \"Susceptible\"}, {\"Tag\": \"2020-03-22T00:00:00\", \"Number of cases\": null, \"Type\": \"Susceptible\"}, {\"Tag\": \"2020-03-23T00:00:00\", \"Number of cases\": null, \"Type\": \"Susceptible\"}, {\"Tag\": \"2020-03-24T00:00:00\", \"Number of cases\": null, \"Type\": \"Susceptible\"}, {\"Tag\": \"2020-03-25T00:00:00\", \"Number of cases\": null, \"Type\": \"Susceptible\"}, {\"Tag\": \"2020-03-26T00:00:00\", \"Number of cases\": null, \"Type\": \"Susceptible\"}, {\"Tag\": \"2020-03-27T00:00:00\", \"Number of cases\": null, \"Type\": \"Susceptible\"}, {\"Tag\": \"2020-03-28T00:00:00\", \"Number of cases\": null, \"Type\": \"Susceptible\"}, {\"Tag\": \"2020-03-29T00:00:00\", \"Number of cases\": null, \"Type\": \"Susceptible\"}, {\"Tag\": \"2020-03-30T00:00:00\", \"Number of cases\": null, \"Type\": \"Susceptible\"}, {\"Tag\": \"2020-03-31T00:00:00\", \"Number of cases\": null, \"Type\": \"Susceptible\"}, {\"Tag\": \"2020-04-01T00:00:00\", \"Number of cases\": null, \"Type\": \"Susceptible\"}, {\"Tag\": \"2020-04-02T00:00:00\", \"Number of cases\": null, \"Type\": \"Susceptible\"}, {\"Tag\": \"2020-04-03T00:00:00\", \"Number of cases\": null, \"Type\": \"Susceptible\"}, {\"Tag\": \"2020-04-04T00:00:00\", \"Number of cases\": null, \"Type\": \"Susceptible\"}, {\"Tag\": \"2020-04-05T00:00:00\", \"Number of cases\": null, \"Type\": \"Susceptible\"}, {\"Tag\": \"2020-04-06T00:00:00\", \"Number of cases\": null, \"Type\": \"Susceptible\"}, {\"Tag\": \"2020-04-07T00:00:00\", \"Number of cases\": null, \"Type\": \"Susceptible\"}, {\"Tag\": \"2020-04-08T00:00:00\", \"Number of cases\": null, \"Type\": \"Susceptible\"}, {\"Tag\": \"2020-04-09T00:00:00\", \"Number of cases\": null, \"Type\": \"Susceptible\"}, {\"Tag\": \"2020-04-10T00:00:00\", \"Number of cases\": null, \"Type\": \"Susceptible\"}, {\"Tag\": \"2020-04-11T00:00:00\", \"Number of cases\": null, \"Type\": \"Susceptible\"}, {\"Tag\": \"2020-04-12T00:00:00\", \"Number of cases\": null, \"Type\": \"Susceptible\"}, {\"Tag\": \"2020-04-13T00:00:00\", \"Number of cases\": null, \"Type\": \"Susceptible\"}, {\"Tag\": \"2020-04-14T00:00:00\", \"Number of cases\": null, \"Type\": \"Susceptible\"}, {\"Tag\": \"2020-04-15T00:00:00\", \"Number of cases\": null, \"Type\": \"Susceptible\"}, {\"Tag\": \"2020-04-16T00:00:00\", \"Number of cases\": null, \"Type\": \"Susceptible\"}, {\"Tag\": \"2020-04-17T00:00:00\", \"Number of cases\": null, \"Type\": \"Susceptible\"}, {\"Tag\": \"2020-04-18T00:00:00\", \"Number of cases\": null, \"Type\": \"Susceptible\"}, {\"Tag\": \"2020-04-19T00:00:00\", \"Number of cases\": null, \"Type\": \"Susceptible\"}, {\"Tag\": \"2020-04-20T00:00:00\", \"Number of cases\": null, \"Type\": \"Susceptible\"}, {\"Tag\": \"2020-04-21T00:00:00\", \"Number of cases\": null, \"Type\": \"Susceptible\"}, {\"Tag\": \"2020-04-22T00:00:00\", \"Number of cases\": null, \"Type\": \"Susceptible\"}, {\"Tag\": \"2020-04-23T00:00:00\", \"Number of cases\": null, \"Type\": \"Susceptible\"}, {\"Tag\": \"2020-04-24T00:00:00\", \"Number of cases\": null, \"Type\": \"Susceptible\"}, {\"Tag\": \"2020-04-25T00:00:00\", \"Number of cases\": null, \"Type\": \"Susceptible\"}, {\"Tag\": \"2020-04-26T00:00:00\", \"Number of cases\": null, \"Type\": \"Susceptible\"}, {\"Tag\": \"2020-04-27T00:00:00\", \"Number of cases\": null, \"Type\": \"Susceptible\"}, {\"Tag\": \"2020-04-28T00:00:00\", \"Number of cases\": null, \"Type\": \"Susceptible\"}, {\"Tag\": \"2020-04-29T00:00:00\", \"Number of cases\": null, \"Type\": \"Susceptible\"}, {\"Tag\": \"2020-04-30T00:00:00\", \"Number of cases\": null, \"Type\": \"Susceptible\"}, {\"Tag\": \"2020-05-01T00:00:00\", \"Number of cases\": null, \"Type\": \"Susceptible\"}, {\"Tag\": \"2020-05-02T00:00:00\", \"Number of cases\": null, \"Type\": \"Susceptible\"}, {\"Tag\": \"2020-05-03T00:00:00\", \"Number of cases\": null, \"Type\": \"Susceptible\"}, {\"Tag\": \"2020-05-04T00:00:00\", \"Number of cases\": null, \"Type\": \"Susceptible\"}, {\"Tag\": \"2020-05-05T00:00:00\", \"Number of cases\": null, \"Type\": \"Susceptible\"}, {\"Tag\": \"2020-05-06T00:00:00\", \"Number of cases\": null, \"Type\": \"Susceptible\"}, {\"Tag\": \"2020-05-07T00:00:00\", \"Number of cases\": null, \"Type\": \"Susceptible\"}, {\"Tag\": \"2020-05-08T00:00:00\", \"Number of cases\": null, \"Type\": \"Susceptible\"}, {\"Tag\": \"2020-05-09T00:00:00\", \"Number of cases\": null, \"Type\": \"Susceptible\"}, {\"Tag\": \"2020-05-10T00:00:00\", \"Number of cases\": null, \"Type\": \"Susceptible\"}, {\"Tag\": \"2020-05-11T00:00:00\", \"Number of cases\": null, \"Type\": \"Susceptible\"}, {\"Tag\": \"2020-05-12T00:00:00\", \"Number of cases\": null, \"Type\": \"Susceptible\"}, {\"Tag\": \"2020-05-13T00:00:00\", \"Number of cases\": null, \"Type\": \"Susceptible\"}, {\"Tag\": \"2020-05-14T00:00:00\", \"Number of cases\": null, \"Type\": \"Susceptible\"}, {\"Tag\": \"2020-05-15T00:00:00\", \"Number of cases\": null, \"Type\": \"Susceptible\"}, {\"Tag\": \"2020-02-21T00:00:00\", \"Number of cases\": 135.29482432974152, \"Type\": \"Exposed\"}, {\"Tag\": \"2020-02-22T00:00:00\", \"Number of cases\": 117.60451382287152, \"Type\": \"Exposed\"}, {\"Tag\": \"2020-02-23T00:00:00\", \"Number of cases\": 111.40319688296907, \"Type\": \"Exposed\"}, {\"Tag\": \"2020-02-24T00:00:00\", \"Number of cases\": 111.6980874313424, \"Type\": \"Exposed\"}, {\"Tag\": \"2020-02-25T00:00:00\", \"Number of cases\": 115.79982882816621, \"Type\": \"Exposed\"}, {\"Tag\": \"2020-02-26T00:00:00\", \"Number of cases\": 122.27062565363448, \"Type\": \"Exposed\"}, {\"Tag\": \"2020-02-27T00:00:00\", \"Number of cases\": 130.35353665841578, \"Type\": \"Exposed\"}, {\"Tag\": \"2020-02-28T00:00:00\", \"Number of cases\": 139.66289511378062, \"Type\": \"Exposed\"}, {\"Tag\": \"2020-02-29T00:00:00\", \"Number of cases\": 150.01644463094033, \"Type\": \"Exposed\"}, {\"Tag\": \"2020-03-01T00:00:00\", \"Number of cases\": 161.34439205556953, \"Type\": \"Exposed\"}, {\"Tag\": \"2020-03-02T00:00:00\", \"Number of cases\": 173.64021234782197, \"Type\": \"Exposed\"}, {\"Tag\": \"2020-03-03T00:00:00\", \"Number of cases\": 186.93412309989256, \"Type\": \"Exposed\"}, {\"Tag\": \"2020-03-04T00:00:00\", \"Number of cases\": 201.27887549697087, \"Type\": \"Exposed\"}, {\"Tag\": \"2020-03-05T00:00:00\", \"Number of cases\": 216.74224133097312, \"Type\": \"Exposed\"}, {\"Tag\": \"2020-03-06T00:00:00\", \"Number of cases\": 233.40315132976053, \"Type\": \"Exposed\"}, {\"Tag\": \"2020-03-07T00:00:00\", \"Number of cases\": 251.34982838404366, \"Type\": \"Exposed\"}, {\"Tag\": \"2020-03-08T00:00:00\", \"Number of cases\": 270.67902530644903, \"Type\": \"Exposed\"}, {\"Tag\": \"2020-03-09T00:00:00\", \"Number of cases\": 291.49587592233075, \"Type\": \"Exposed\"}, {\"Tag\": \"2020-03-10T00:00:00\", \"Number of cases\": 313.91410362575783, \"Type\": \"Exposed\"}, {\"Tag\": \"2020-03-11T00:00:00\", \"Number of cases\": 338.0564429530263, \"Type\": \"Exposed\"}, {\"Tag\": \"2020-03-12T00:00:00\", \"Number of cases\": 364.0552022033274, \"Type\": \"Exposed\"}, {\"Tag\": \"2020-03-13T00:00:00\", \"Number of cases\": 392.05292718187223, \"Type\": \"Exposed\"}, {\"Tag\": \"2020-03-14T00:00:00\", \"Number of cases\": 422.2031471153087, \"Type\": \"Exposed\"}, {\"Tag\": \"2020-03-15T00:00:00\", \"Number of cases\": 454.6711948679367, \"Type\": \"Exposed\"}, {\"Tag\": \"2020-03-16T00:00:00\", \"Number of cases\": 489.6350988689495, \"Type\": \"Exposed\"}, {\"Tag\": \"2020-03-17T00:00:00\", \"Number of cases\": 527.2865493400055, \"Type\": \"Exposed\"}, {\"Tag\": \"2020-03-18T00:00:00\", \"Number of cases\": 567.831934836364, \"Type\": \"Exposed\"}, {\"Tag\": \"2020-03-19T00:00:00\", \"Number of cases\": 611.4934672585938, \"Type\": \"Exposed\"}, {\"Tag\": \"2020-03-20T00:00:00\", \"Number of cases\": 658.5104035842725, \"Type\": \"Exposed\"}, {\"Tag\": \"2020-03-21T00:00:00\", \"Number of cases\": 829.128059415307, \"Type\": \"Exposed\"}, {\"Tag\": \"2020-03-22T00:00:00\", \"Number of cases\": 1009.036810737987, \"Type\": \"Exposed\"}, {\"Tag\": \"2020-03-23T00:00:00\", \"Number of cases\": 1211.7705110828513, \"Type\": \"Exposed\"}, {\"Tag\": \"2020-03-24T00:00:00\", \"Number of cases\": 1447.4418335459457, \"Type\": \"Exposed\"}, {\"Tag\": \"2020-03-25T00:00:00\", \"Number of cases\": 1725.1402861011104, \"Type\": \"Exposed\"}, {\"Tag\": \"2020-03-26T00:00:00\", \"Number of cases\": 2054.233745017426, \"Type\": \"Exposed\"}, {\"Tag\": \"2020-03-27T00:00:00\", \"Number of cases\": 2445.154702409021, \"Type\": \"Exposed\"}, {\"Tag\": \"2020-03-28T00:00:00\", \"Number of cases\": 2909.960930420849, \"Type\": \"Exposed\"}, {\"Tag\": \"2020-03-29T00:00:00\", \"Number of cases\": 2792.209807172837, \"Type\": \"Exposed\"}, {\"Tag\": \"2020-03-30T00:00:00\", \"Number of cases\": 2734.0397926219216, \"Type\": \"Exposed\"}, {\"Tag\": \"2020-03-31T00:00:00\", \"Number of cases\": 2710.4586939546098, \"Type\": \"Exposed\"}, {\"Tag\": \"2020-04-01T00:00:00\", \"Number of cases\": 2706.993105589957, \"Type\": \"Exposed\"}, {\"Tag\": \"2020-04-02T00:00:00\", \"Number of cases\": 2715.2614884454556, \"Type\": \"Exposed\"}, {\"Tag\": \"2020-04-03T00:00:00\", \"Number of cases\": 2730.4102951565433, \"Type\": \"Exposed\"}, {\"Tag\": \"2020-04-04T00:00:00\", \"Number of cases\": 2749.6292073854083, \"Type\": \"Exposed\"}, {\"Tag\": \"2020-04-05T00:00:00\", \"Number of cases\": 2771.291189753132, \"Type\": \"Exposed\"}, {\"Tag\": \"2020-04-06T00:00:00\", \"Number of cases\": 2794.454498145071, \"Type\": \"Exposed\"}, {\"Tag\": \"2020-04-07T00:00:00\", \"Number of cases\": 2818.5742676589134, \"Type\": \"Exposed\"}, {\"Tag\": \"2020-04-08T00:00:00\", \"Number of cases\": 2843.3354909112527, \"Type\": \"Exposed\"}, {\"Tag\": \"2020-04-09T00:00:00\", \"Number of cases\": 2868.5562740416035, \"Type\": \"Exposed\"}, {\"Tag\": \"2020-04-10T00:00:00\", \"Number of cases\": 2894.1318212682613, \"Type\": \"Exposed\"}, {\"Tag\": \"2020-04-11T00:00:00\", \"Number of cases\": 2920.0019871419026, \"Type\": \"Exposed\"}, {\"Tag\": \"2020-04-12T00:00:00\", \"Number of cases\": 2946.1324860613736, \"Type\": \"Exposed\"}, {\"Tag\": \"2020-04-13T00:00:00\", \"Number of cases\": 2972.5040136509306, \"Type\": \"Exposed\"}, {\"Tag\": \"2020-04-14T00:00:00\", \"Number of cases\": 2999.1059295051873, \"Type\": \"Exposed\"}, {\"Tag\": \"2020-04-15T00:00:00\", \"Number of cases\": 3025.9326273980173, \"Type\": \"Exposed\"}, {\"Tag\": \"2020-04-16T00:00:00\", \"Number of cases\": 3052.9814033116672, \"Type\": \"Exposed\"}, {\"Tag\": \"2020-04-17T00:00:00\", \"Number of cases\": 3080.2512469180324, \"Type\": \"Exposed\"}, {\"Tag\": \"2020-04-18T00:00:00\", \"Number of cases\": 3107.7421132677327, \"Type\": \"Exposed\"}, {\"Tag\": \"2020-04-19T00:00:00\", \"Number of cases\": 3135.454524554048, \"Type\": \"Exposed\"}, {\"Tag\": \"2020-04-20T00:00:00\", \"Number of cases\": 3163.3893327020833, \"Type\": \"Exposed\"}, {\"Tag\": \"2020-04-21T00:00:00\", \"Number of cases\": 3191.5475712198195, \"Type\": \"Exposed\"}, {\"Tag\": \"2020-04-22T00:00:00\", \"Number of cases\": 3219.930386968275, \"Type\": \"Exposed\"}, {\"Tag\": \"2020-04-23T00:00:00\", \"Number of cases\": 3248.538987873159, \"Type\": \"Exposed\"}, {\"Tag\": \"2020-04-24T00:00:00\", \"Number of cases\": 3277.3746146656713, \"Type\": \"Exposed\"}, {\"Tag\": \"2020-04-25T00:00:00\", \"Number of cases\": 3306.438527158787, \"Type\": \"Exposed\"}, {\"Tag\": \"2020-04-26T00:00:00\", \"Number of cases\": 3335.731991371566, \"Type\": \"Exposed\"}, {\"Tag\": \"2020-04-27T00:00:00\", \"Number of cases\": 3118.2769041873103, \"Type\": \"Exposed\"}, {\"Tag\": \"2020-04-28T00:00:00\", \"Number of cases\": 2934.2265728858806, \"Type\": \"Exposed\"}, {\"Tag\": \"2020-04-29T00:00:00\", \"Number of cases\": 2773.0569274447366, \"Type\": \"Exposed\"}, {\"Tag\": \"2020-04-30T00:00:00\", \"Number of cases\": 2628.2002856308436, \"Type\": \"Exposed\"}, {\"Tag\": \"2020-05-01T00:00:00\", \"Number of cases\": 2495.5209769299518, \"Type\": \"Exposed\"}, {\"Tag\": \"2020-05-02T00:00:00\", \"Number of cases\": 2372.380040092774, \"Type\": \"Exposed\"}, {\"Tag\": \"2020-05-03T00:00:00\", \"Number of cases\": 2257.0613501233356, \"Type\": \"Exposed\"}, {\"Tag\": \"2020-05-04T00:00:00\", \"Number of cases\": 2148.4193909277005, \"Type\": \"Exposed\"}, {\"Tag\": \"2020-05-05T00:00:00\", \"Number of cases\": 2045.6629948406164, \"Type\": \"Exposed\"}, {\"Tag\": \"2020-05-06T00:00:00\", \"Number of cases\": 1948.2225047048169, \"Type\": \"Exposed\"}, {\"Tag\": \"2020-05-07T00:00:00\", \"Number of cases\": 1855.6680901862694, \"Type\": \"Exposed\"}, {\"Tag\": \"2020-05-08T00:00:00\", \"Number of cases\": 1767.6594647702357, \"Type\": \"Exposed\"}, {\"Tag\": \"2020-05-09T00:00:00\", \"Number of cases\": 1683.9148678812835, \"Type\": \"Exposed\"}, {\"Tag\": \"2020-05-10T00:00:00\", \"Number of cases\": 1604.191870389483, \"Type\": \"Exposed\"}, {\"Tag\": \"2020-05-11T00:00:00\", \"Number of cases\": 1528.2754407972482, \"Type\": \"Exposed\"}, {\"Tag\": \"2020-05-12T00:00:00\", \"Number of cases\": 1455.9704721061223, \"Type\": \"Exposed\"}, {\"Tag\": \"2020-05-13T00:00:00\", \"Number of cases\": 1387.0970525464193, \"Type\": \"Exposed\"}, {\"Tag\": \"2020-05-14T00:00:00\", \"Number of cases\": 1321.4874251522874, \"Type\": \"Exposed\"}, {\"Tag\": \"2020-05-15T00:00:00\", \"Number of cases\": 1258.9839889275206, \"Type\": \"Exposed\"}, {\"Tag\": \"2020-02-21T00:00:00\", \"Number of cases\": 0.0, \"Type\": \"Infectious\"}, {\"Tag\": \"2020-02-22T00:00:00\", \"Number of cases\": 20.28182638281943, \"Type\": \"Infectious\"}, {\"Tag\": \"2020-02-23T00:00:00\", \"Number of cases\": 32.84843653911027, \"Type\": \"Infectious\"}, {\"Tag\": \"2020-02-24T00:00:00\", \"Number of cases\": 41.348202028090355, \"Type\": \"Infectious\"}, {\"Tag\": \"2020-02-25T00:00:00\", \"Number of cases\": 47.77023069412838, \"Type\": \"Infectious\"}, {\"Tag\": \"2020-02-26T00:00:00\", \"Number of cases\": 53.20389923554205, \"Type\": \"Infectious\"}, {\"Tag\": \"2020-02-27T00:00:00\", \"Number of cases\": 58.25108780477584, \"Type\": \"Infectious\"}, {\"Tag\": \"2020-02-28T00:00:00\", \"Number of cases\": 63.249947046205996, \"Type\": \"Infectious\"}, {\"Tag\": \"2020-02-29T00:00:00\", \"Number of cases\": 68.39639449212392, \"Type\": \"Infectious\"}, {\"Tag\": \"2020-03-01T00:00:00\", \"Number of cases\": 73.81011536548054, \"Type\": \"Infectious\"}, {\"Tag\": \"2020-03-02T00:00:00\", \"Number of cases\": 79.57045277771742, \"Type\": \"Infectious\"}, {\"Tag\": \"2020-03-03T00:00:00\", \"Number of cases\": 85.73596350569618, \"Type\": \"Infectious\"}, {\"Tag\": \"2020-03-04T00:00:00\", \"Number of cases\": 92.35511476467568, \"Type\": \"Infectious\"}, {\"Tag\": \"2020-03-05T00:00:00\", \"Number of cases\": 99.4721813091961, \"Type\": \"Infectious\"}, {\"Tag\": \"2020-03-06T00:00:00\", \"Number of cases\": 107.13054321043334, \"Type\": \"Infectious\"}, {\"Tag\": \"2020-03-07T00:00:00\", \"Number of cases\": 115.37458267328273, \"Type\": \"Infectious\"}, {\"Tag\": \"2020-03-08T00:00:00\", \"Number of cases\": 124.25082566315417, \"Type\": \"Infectious\"}, {\"Tag\": \"2020-03-09T00:00:00\", \"Number of cases\": 133.8086859420344, \"Type\": \"Infectious\"}, {\"Tag\": \"2020-03-10T00:00:00\", \"Number of cases\": 144.10099980336935, \"Type\": \"Infectious\"}, {\"Tag\": \"2020-03-11T00:00:00\", \"Number of cases\": 155.18445935851128, \"Type\": \"Infectious\"}, {\"Tag\": \"2020-03-12T00:00:00\", \"Number of cases\": 167.12000033573426, \"Type\": \"Infectious\"}, {\"Tag\": \"2020-03-13T00:00:00\", \"Number of cases\": 179.97317750130537, \"Type\": \"Infectious\"}, {\"Tag\": \"2020-03-14T00:00:00\", \"Number of cases\": 193.8145457800636, \"Type\": \"Infectious\"}, {\"Tag\": \"2020-03-15T00:00:00\", \"Number of cases\": 208.72005793401098, \"Type\": \"Infectious\"}, {\"Tag\": \"2020-03-16T00:00:00\", \"Number of cases\": 224.77148599068917, \"Type\": \"Infectious\"}, {\"Tag\": \"2020-03-17T00:00:00\", \"Number of cases\": 242.05687157856957, \"Type\": \"Infectious\"}, {\"Tag\": \"2020-03-18T00:00:00\", \"Number of cases\": 260.67100613085006, \"Type\": \"Infectious\"}, {\"Tag\": \"2020-03-19T00:00:00\", \"Number of cases\": 280.71594976459113, \"Type\": \"Infectious\"}, {\"Tag\": \"2020-03-20T00:00:00\", \"Number of cases\": 302.30159356816273, \"Type\": \"Infectious\"}, {\"Tag\": \"2020-03-21T00:00:00\", \"Number of cases\": 335.9055830587338, \"Type\": \"Infectious\"}, {\"Tag\": \"2020-03-22T00:00:00\", \"Number of cases\": 388.0379942564886, \"Type\": \"Infectious\"}, {\"Tag\": \"2020-03-23T00:00:00\", \"Number of cases\": 456.0397027730359, \"Type\": \"Infectious\"}, {\"Tag\": \"2020-03-24T00:00:00\", \"Number of cases\": 539.8906386206055, \"Type\": \"Infectious\"}, {\"Tag\": \"2020-03-25T00:00:00\", \"Number of cases\": 641.1105055735533, \"Type\": \"Infectious\"}, {\"Tag\": \"2020-03-26T00:00:00\", \"Number of cases\": 762.2650571284343, \"Type\": \"Infectious\"}, {\"Tag\": \"2020-03-27T00:00:00\", \"Number of cases\": 906.778404636338, \"Type\": \"Infectious\"}, {\"Tag\": \"2020-03-28T00:00:00\", \"Number of cases\": 1078.9058713291925, \"Type\": \"Infectious\"}, {\"Tag\": \"2020-03-29T00:00:00\", \"Number of cases\": 1226.3924416294021, \"Type\": \"Infectious\"}, {\"Tag\": \"2020-03-30T00:00:00\", \"Number of cases\": 1317.269393574907, \"Type\": \"Infectious\"}, {\"Tag\": \"2020-03-31T00:00:00\", \"Number of cases\": 1375.4062023440274, \"Type\": \"Infectious\"}, {\"Tag\": \"2020-04-01T00:00:00\", \"Number of cases\": 1414.627137825689, \"Type\": \"Infectious\"}, {\"Tag\": \"2020-04-02T00:00:00\", \"Number of cases\": 1442.9388494907632, \"Type\": \"Infectious\"}, {\"Tag\": \"2020-04-03T00:00:00\", \"Number of cases\": 1464.978750475778, \"Type\": \"Infectious\"}, {\"Tag\": \"2020-04-04T00:00:00\", \"Number of cases\": 1483.4329189790424, \"Type\": \"Infectious\"}, {\"Tag\": \"2020-04-05T00:00:00\", \"Number of cases\": 1499.8573372316012, \"Type\": \"Infectious\"}, {\"Tag\": \"2020-04-06T00:00:00\", \"Number of cases\": 1515.1534802643087, \"Type\": \"Infectious\"}, {\"Tag\": \"2020-04-07T00:00:00\", \"Number of cases\": 1529.8437610480682, \"Type\": \"Infectious\"}, {\"Tag\": \"2020-04-08T00:00:00\", \"Number of cases\": 1544.2310476534528, \"Type\": \"Infectious\"}, {\"Tag\": \"2020-04-09T00:00:00\", \"Number of cases\": 1558.4910631634107, \"Type\": \"Infectious\"}, {\"Tag\": \"2020-04-10T00:00:00\", \"Number of cases\": 1572.7258874646088, \"Type\": \"Infectious\"}, {\"Tag\": \"2020-04-11T00:00:00\", \"Number of cases\": 1586.994949817284, \"Type\": \"Infectious\"}, {\"Tag\": \"2020-04-12T00:00:00\", \"Number of cases\": 1601.3329771219965, \"Type\": \"Infectious\"}, {\"Tag\": \"2020-04-13T00:00:00\", \"Number of cases\": 1615.7603851749784, \"Type\": \"Infectious\"}, {\"Tag\": \"2020-04-14T00:00:00\", \"Number of cases\": 1630.289312987181, \"Type\": \"Infectious\"}, {\"Tag\": \"2020-04-15T00:00:00\", \"Number of cases\": 1644.9270899972944, \"Type\": \"Infectious\"}, {\"Tag\": \"2020-04-16T00:00:00\", \"Number of cases\": 1659.6782724991008, \"Type\": \"Infectious\"}, {\"Tag\": \"2020-04-17T00:00:00\", \"Number of cases\": 1674.5457979064608, \"Type\": \"Infectious\"}, {\"Tag\": \"2020-04-18T00:00:00\", \"Number of cases\": 1689.5316802683903, \"Type\": \"Infectious\"}, {\"Tag\": \"2020-04-19T00:00:00\", \"Number of cases\": 1704.6373904363022, \"Type\": \"Infectious\"}, {\"Tag\": \"2020-04-20T00:00:00\", \"Number of cases\": 1719.8640825851062, \"Type\": \"Infectious\"}, {\"Tag\": \"2020-04-21T00:00:00\", \"Number of cases\": 1735.2127354391903, \"Type\": \"Infectious\"}, {\"Tag\": \"2020-04-22T00:00:00\", \"Number of cases\": 1750.6842171352403, \"Type\": \"Infectious\"}, {\"Tag\": \"2020-04-23T00:00:00\", \"Number of cases\": 1766.2793347682318, \"Type\": \"Infectious\"}, {\"Tag\": \"2020-04-24T00:00:00\", \"Number of cases\": 1781.9988612291181, \"Type\": \"Infectious\"}, {\"Tag\": \"2020-04-25T00:00:00\", \"Number of cases\": 1797.843547882065, \"Type\": \"Infectious\"}, {\"Tag\": \"2020-04-26T00:00:00\", \"Number of cases\": 1813.8141305653962, \"Type\": \"Infectious\"}, {\"Tag\": \"2020-04-27T00:00:00\", \"Number of cases\": 1808.130764267139, \"Type\": \"Infectious\"}, {\"Tag\": \"2020-04-28T00:00:00\", \"Number of cases\": 1771.7850998198587, \"Type\": \"Infectious\"}, {\"Tag\": \"2020-04-29T00:00:00\", \"Number of cases\": 1718.1813172768516, \"Type\": \"Infectious\"}, {\"Tag\": \"2020-04-30T00:00:00\", \"Number of cases\": 1655.4685151595306, \"Type\": \"Infectious\"}, {\"Tag\": \"2020-05-01T00:00:00\", \"Number of cases\": 1588.5757748758247, \"Type\": \"Infectious\"}, {\"Tag\": \"2020-05-02T00:00:00\", \"Number of cases\": 1520.4603517566545, \"Type\": \"Infectious\"}, {\"Tag\": \"2020-05-03T00:00:00\", \"Number of cases\": 1452.8730897418754, \"Type\": \"Infectious\"}, {\"Tag\": \"2020-05-04T00:00:00\", \"Number of cases\": 1386.8277871494586, \"Type\": \"Infectious\"}, {\"Tag\": \"2020-05-05T00:00:00\", \"Number of cases\": 1322.8889675889382, \"Type\": \"Infectious\"}, {\"Tag\": \"2020-05-06T00:00:00\", \"Number of cases\": 1261.348248648437, \"Type\": \"Infectious\"}, {\"Tag\": \"2020-05-07T00:00:00\", \"Number of cases\": 1202.332415365755, \"Type\": \"Infectious\"}, {\"Tag\": \"2020-05-08T00:00:00\", \"Number of cases\": 1145.8695872095843, \"Type\": \"Infectious\"}, {\"Tag\": \"2020-05-09T00:00:00\", \"Number of cases\": 1091.9296902492774, \"Type\": \"Infectious\"}, {\"Tag\": \"2020-05-10T00:00:00\", \"Number of cases\": 1040.4491753820455, \"Type\": \"Infectious\"}, {\"Tag\": \"2020-05-11T00:00:00\", \"Number of cases\": 991.3460770999937, \"Type\": \"Infectious\"}, {\"Tag\": \"2020-05-12T00:00:00\", \"Number of cases\": 944.5291522447787, \"Type\": \"Infectious\"}, {\"Tag\": \"2020-05-13T00:00:00\", \"Number of cases\": 899.9033910291733, \"Type\": \"Infectious\"}, {\"Tag\": \"2020-05-14T00:00:00\", \"Number of cases\": 857.3733082940502, \"Type\": \"Infectious\"}, {\"Tag\": \"2020-05-15T00:00:00\", \"Number of cases\": 816.8448783762096, \"Type\": \"Infectious\"}, {\"Tag\": \"2020-02-21T00:00:00\", \"Number of cases\": 0.0, \"Type\": \"Removed\"}, {\"Tag\": \"2020-02-22T00:00:00\", \"Number of cases\": 3.793712475975568, \"Type\": \"Removed\"}, {\"Tag\": \"2020-02-23T00:00:00\", \"Number of cases\": 13.111871356899067, \"Type\": \"Removed\"}, {\"Tag\": \"2020-02-24T00:00:00\", \"Number of cases\": 25.986434916978816, \"Type\": \"Removed\"}, {\"Tag\": \"2020-02-25T00:00:00\", \"Number of cases\": 41.392350187889576, \"Type\": \"Removed\"}, {\"Tag\": \"2020-02-26T00:00:00\", \"Number of cases\": 58.819603747875796, \"Type\": \"Removed\"}, {\"Tag\": \"2020-02-27T00:00:00\", \"Number of cases\": 78.04123805303877, \"Type\": \"Removed\"}, {\"Tag\": \"2020-02-28T00:00:00\", \"Number of cases\": 98.98773378254224, \"Type\": \"Removed\"}, {\"Tag\": \"2020-02-29T00:00:00\", \"Number of cases\": 121.6791345013331, \"Type\": \"Removed\"}, {\"Tag\": \"2020-03-01T00:00:00\", \"Number of cases\": 146.18852965753206, \"Type\": \"Removed\"}, {\"Tag\": \"2020-03-02T00:00:00\", \"Number of cases\": 172.62257917864352, \"Type\": \"Removed\"}, {\"Tag\": \"2020-03-03T00:00:00\", \"Number of cases\": 201.111312205632, \"Type\": \"Removed\"}, {\"Tag\": \"2020-03-04T00:00:00\", \"Number of cases\": 231.80298733067303, \"Type\": \"Removed\"}, {\"Tag\": \"2020-03-05T00:00:00\", \"Number of cases\": 264.8617291994331, \"Type\": \"Removed\"}, {\"Tag\": \"2020-03-06T00:00:00\", \"Number of cases\": 300.4667054496689, \"Type\": \"Removed\"}, {\"Tag\": \"2020-03-07T00:00:00\", \"Number of cases\": 338.8121735051194, \"Type\": \"Removed\"}, {\"Tag\": \"2020-03-08T00:00:00\", \"Number of cases\": 380.1080392299801, \"Type\": \"Removed\"}, {\"Tag\": \"2020-03-09T00:00:00\", \"Number of cases\": 424.58073193856427, \"Type\": \"Removed\"}, {\"Tag\": \"2020-03-10T00:00:00\", \"Number of cases\": 472.47429692152855, \"Type\": \"Removed\"}, {\"Tag\": \"2020-03-11T00:00:00\", \"Number of cases\": 524.0516520145437, \"Type\": \"Removed\"}, {\"Tag\": \"2020-03-12T00:00:00\", \"Number of cases\": 579.5959848883818, \"Type\": \"Removed\"}, {\"Tag\": \"2020-03-13T00:00:00\", \"Number of cases\": 639.4122812168927, \"Type\": \"Removed\"}, {\"Tag\": \"2020-03-14T00:00:00\", \"Number of cases\": 703.8289825963111, \"Type\": \"Removed\"}, {\"Tag\": \"2020-03-15T00:00:00\", \"Number of cases\": 773.1997787715883, \"Type\": \"Removed\"}, {\"Tag\": \"2020-03-16T00:00:00\", \"Number of cases\": 847.9055411158438, \"Type\": \"Removed\"}, {\"Tag\": \"2020-03-17T00:00:00\", \"Number of cases\": 928.3564089759597, \"Type\": \"Removed\"}, {\"Tag\": \"2020-03-18T00:00:00\", \"Number of cases\": 1014.994024550321, \"Type\": \"Removed\"}, {\"Tag\": \"2020-03-19T00:00:00\", \"Number of cases\": 1108.2939564462479, \"Type\": \"Removed\"}, {\"Tag\": \"2020-03-20T00:00:00\", \"Number of cases\": 1208.7683280620247, \"Type\": \"Removed\"}, {\"Tag\": \"2020-03-21T00:00:00\", \"Number of cases\": 1318.1972631846745, \"Type\": \"Removed\"}, {\"Tag\": \"2020-03-22T00:00:00\", \"Number of cases\": 1442.539107897894, \"Type\": \"Removed\"}, {\"Tag\": \"2020-03-23T00:00:00\", \"Number of cases\": 1587.6241356874348, \"Type\": \"Removed\"}, {\"Tag\": \"2020-03-24T00:00:00\", \"Number of cases\": 1758.8653569799576, \"Type\": \"Removed\"}, {\"Tag\": \"2020-03-25T00:00:00\", \"Number of cases\": 1961.9550598843398, \"Type\": \"Removed\"}, {\"Tag\": \"2020-03-26T00:00:00\", \"Number of cases\": 2203.298656982574, \"Type\": \"Removed\"}, {\"Tag\": \"2020-03-27T00:00:00\", \"Number of cases\": 2490.336873518255, \"Type\": \"Removed\"}, {\"Tag\": \"2020-03-28T00:00:00\", \"Number of cases\": 2831.833735381198, \"Type\": \"Removed\"}, {\"Tag\": \"2020-03-29T00:00:00\", \"Number of cases\": 3231.400641016787, \"Type\": \"Removed\"}, {\"Tag\": \"2020-03-30T00:00:00\", \"Number of cases\": 3671.1789128188875, \"Type\": \"Removed\"}, {\"Tag\": \"2020-03-31T00:00:00\", \"Number of cases\": 4136.136196024581, \"Type\": \"Removed\"}, {\"Tag\": \"2020-04-01T00:00:00\", \"Number of cases\": 4617.582179719173, \"Type\": \"Removed\"}, {\"Tag\": \"2020-04-02T00:00:00\", \"Number of cases\": 5110.499644787691, \"Type\": \"Removed\"}, {\"Tag\": \"2020-04-03T00:00:00\", \"Number of cases\": 5611.9987445306815, \"Type\": \"Removed\"}, {\"Tag\": \"2020-04-04T00:00:00\", \"Number of cases\": 6120.421844432944, \"Type\": \"Removed\"}, {\"Tag\": \"2020-04-05T00:00:00\", \"Number of cases\": 6634.82504634656, \"Type\": \"Removed\"}, {\"Tag\": \"2020-04-06T00:00:00\", \"Number of cases\": 7154.677930168538, \"Type\": \"Removed\"}, {\"Tag\": \"2020-04-07T00:00:00\", \"Number of cases\": 7679.68965237605, \"Type\": \"Removed\"}, {\"Tag\": \"2020-04-08T00:00:00\", \"Number of cases\": 8209.70823425637, \"Type\": \"Removed\"}, {\"Tag\": \"2020-04-09T00:00:00\", \"Number of cases\": 8744.662224246347, \"Type\": \"Removed\"}, {\"Tag\": \"2020-04-10T00:00:00\", \"Number of cases\": 9284.526918659725, \"Type\": \"Removed\"}, {\"Tag\": \"2020-04-11T00:00:00\", \"Number of cases\": 9829.304793800922, \"Type\": \"Removed\"}, {\"Tag\": \"2020-04-12T00:00:00\", \"Number of cases\": 10379.014173793817, \"Type\": \"Removed\"}, {\"Tag\": \"2020-04-13T00:00:00\", \"Number of cases\": 10933.682669685526, \"Type\": \"Removed\"}, {\"Tag\": \"2020-04-14T00:00:00\", \"Number of cases\": 11493.343369410617, \"Type\": \"Removed\"}, {\"Tag\": \"2020-04-15T00:00:00\", \"Number of cases\": 12058.032648566432, \"Type\": \"Removed\"}, {\"Tag\": \"2020-04-16T00:00:00\", \"Number of cases\": 12627.788884547092, \"Type\": \"Removed\"}, {\"Tag\": \"2020-04-17T00:00:00\", \"Number of cases\": 13202.651727645463, \"Type\": \"Removed\"}, {\"Tag\": \"2020-04-18T00:00:00\", \"Number of cases\": 13782.661661775157, \"Type\": \"Removed\"}, {\"Tag\": \"2020-04-19T00:00:00\", \"Number of cases\": 14367.859764272915, \"Type\": \"Removed\"}, {\"Tag\": \"2020-04-20T00:00:00\", \"Number of cases\": 14958.287562679618, \"Type\": \"Removed\"}, {\"Tag\": \"2020-04-21T00:00:00\", \"Number of cases\": 15553.986945334455, \"Type\": \"Removed\"}, {\"Tag\": \"2020-04-22T00:00:00\", \"Number of cases\": 16155.000120140134, \"Type\": \"Removed\"}, {\"Tag\": \"2020-04-23T00:00:00\", \"Number of cases\": 16761.36958921554, \"Type\": \"Removed\"}, {\"Tag\": \"2020-04-24T00:00:00\", \"Number of cases\": 17373.13811689433, \"Type\": \"Removed\"}, {\"Tag\": \"2020-04-25T00:00:00\", \"Number of cases\": 17990.348728303525, \"Type\": \"Removed\"}, {\"Tag\": \"2020-04-26T00:00:00\", \"Number of cases\": 18613.04470624167, \"Type\": \"Removed\"}, {\"Tag\": \"2020-04-27T00:00:00\", \"Number of cases\": 19238.65826444228, \"Type\": \"Removed\"}, {\"Tag\": \"2020-04-28T00:00:00\", \"Number of cases\": 19856.538961118422, \"Type\": \"Removed\"}, {\"Tag\": \"2020-04-29T00:00:00\", \"Number of cases\": 20458.614890306908, \"Type\": \"Removed\"}, {\"Tag\": \"2020-04-30T00:00:00\", \"Number of cases\": 21040.456560268365, \"Type\": \"Removed\"}, {\"Tag\": \"2020-05-01T00:00:00\", \"Number of cases\": 21599.8441909011, \"Type\": \"Removed\"}, {\"Tag\": \"2020-05-02T00:00:00\", \"Number of cases\": 22135.89000455437, \"Type\": \"Removed\"}, {\"Tag\": \"2020-05-03T00:00:00\", \"Number of cases\": 22648.500981144734, \"Type\": \"Removed\"}, {\"Tag\": \"2020-05-04T00:00:00\", \"Number of cases\": 23138.05034952678, \"Type\": \"Removed\"}, {\"Tag\": \"2020-05-05T00:00:00\", \"Number of cases\": 23605.177074134604, \"Type\": \"Removed\"}, {\"Tag\": \"2020-05-06T00:00:00\", \"Number of cases\": 24050.663821392674, \"Type\": \"Removed\"}, {\"Tag\": \"2020-05-07T00:00:00\", \"Number of cases\": 24475.362998814442, \"Type\": \"Removed\"}, {\"Tag\": \"2020-05-08T00:00:00\", \"Number of cases\": 24880.15225419273, \"Type\": \"Removed\"}, {\"Tag\": \"2020-05-09T00:00:00\", \"Number of cases\": 25265.908002012042, \"Type\": \"Removed\"}, {\"Tag\": \"2020-05-10T00:00:00\", \"Number of cases\": 25633.48996814388, \"Type\": \"Removed\"}, {\"Tag\": \"2020-05-11T00:00:00\", \"Number of cases\": 25983.732457377, \"Type\": \"Removed\"}, {\"Tag\": \"2020-05-12T00:00:00\", \"Number of cases\": 26317.43970967795, \"Type\": \"Removed\"}, {\"Tag\": \"2020-05-13T00:00:00\", \"Number of cases\": 26635.383731864873, \"Type\": \"Removed\"}, {\"Tag\": \"2020-05-14T00:00:00\", \"Number of cases\": 26938.30361535209, \"Type\": \"Removed\"}, {\"Tag\": \"2020-05-15T00:00:00\", \"Number of cases\": 27226.905734267646, \"Type\": \"Removed\"}, {\"Tag\": \"2020-02-21T00:00:00\", \"Number of cases\": 135.29482432974152, \"Type\": \"simulated sum\"}, {\"Tag\": \"2020-02-22T00:00:00\", \"Number of cases\": 141.68005268166652, \"Type\": \"simulated sum\"}, {\"Tag\": \"2020-02-23T00:00:00\", \"Number of cases\": 157.3635047789784, \"Type\": \"simulated sum\"}, {\"Tag\": \"2020-02-24T00:00:00\", \"Number of cases\": 179.03272437641158, \"Type\": \"simulated sum\"}, {\"Tag\": \"2020-02-25T00:00:00\", \"Number of cases\": 204.96240971018418, \"Type\": \"simulated sum\"}, {\"Tag\": \"2020-02-26T00:00:00\", \"Number of cases\": 234.29412863705232, \"Type\": \"simulated sum\"}, {\"Tag\": \"2020-02-27T00:00:00\", \"Number of cases\": 266.6458625162304, \"Type\": \"simulated sum\"}, {\"Tag\": \"2020-02-28T00:00:00\", \"Number of cases\": 301.90057594252886, \"Type\": \"simulated sum\"}, {\"Tag\": \"2020-02-29T00:00:00\", \"Number of cases\": 340.0919736243974, \"Type\": \"simulated sum\"}, {\"Tag\": \"2020-03-01T00:00:00\", \"Number of cases\": 381.34303707858214, \"Type\": \"simulated sum\"}, {\"Tag\": \"2020-03-02T00:00:00\", \"Number of cases\": 425.8332443041829, \"Type\": \"simulated sum\"}, {\"Tag\": \"2020-03-03T00:00:00\", \"Number of cases\": 473.7813988112207, \"Type\": \"simulated sum\"}, {\"Tag\": \"2020-03-04T00:00:00\", \"Number of cases\": 525.4369775923196, \"Type\": \"simulated sum\"}, {\"Tag\": \"2020-03-05T00:00:00\", \"Number of cases\": 581.0761518396023, \"Type\": \"simulated sum\"}, {\"Tag\": \"2020-03-06T00:00:00\", \"Number of cases\": 641.0003999898628, \"Type\": \"simulated sum\"}, {\"Tag\": \"2020-03-07T00:00:00\", \"Number of cases\": 705.5365845624458, \"Type\": \"simulated sum\"}, {\"Tag\": \"2020-03-08T00:00:00\", \"Number of cases\": 775.0378901995832, \"Type\": \"simulated sum\"}, {\"Tag\": \"2020-03-09T00:00:00\", \"Number of cases\": 849.8852938029295, \"Type\": \"simulated sum\"}, {\"Tag\": \"2020-03-10T00:00:00\", \"Number of cases\": 930.4894003506557, \"Type\": \"simulated sum\"}, {\"Tag\": \"2020-03-11T00:00:00\", \"Number of cases\": 1017.2925543260812, \"Type\": \"simulated sum\"}, {\"Tag\": \"2020-03-12T00:00:00\", \"Number of cases\": 1110.7711874274435, \"Type\": \"simulated sum\"}, {\"Tag\": \"2020-03-13T00:00:00\", \"Number of cases\": 1211.4383859000704, \"Type\": \"simulated sum\"}, {\"Tag\": \"2020-03-14T00:00:00\", \"Number of cases\": 1319.8466754916835, \"Type\": \"simulated sum\"}, {\"Tag\": \"2020-03-15T00:00:00\", \"Number of cases\": 1436.591031573536, \"Type\": \"simulated sum\"}, {\"Tag\": \"2020-03-16T00:00:00\", \"Number of cases\": 1562.3121259754826, \"Type\": \"simulated sum\"}, {\"Tag\": \"2020-03-17T00:00:00\", \"Number of cases\": 1697.6998298945348, \"Type\": \"simulated sum\"}, {\"Tag\": \"2020-03-18T00:00:00\", \"Number of cases\": 1843.496965517535, \"Type\": \"simulated sum\"}, {\"Tag\": \"2020-03-19T00:00:00\", \"Number of cases\": 2000.5033734694327, \"Type\": \"simulated sum\"}, {\"Tag\": \"2020-03-20T00:00:00\", \"Number of cases\": 2169.5803252144597, \"Type\": \"simulated sum\"}, {\"Tag\": \"2020-03-21T00:00:00\", \"Number of cases\": 2483.2309056587155, \"Type\": \"simulated sum\"}, {\"Tag\": \"2020-03-22T00:00:00\", \"Number of cases\": 2839.6139128923696, \"Type\": \"simulated sum\"}, {\"Tag\": \"2020-03-23T00:00:00\", \"Number of cases\": 3255.4343495433222, \"Type\": \"simulated sum\"}, {\"Tag\": \"2020-03-24T00:00:00\", \"Number of cases\": 3746.197829146509, \"Type\": \"simulated sum\"}, {\"Tag\": \"2020-03-25T00:00:00\", \"Number of cases\": 4328.205851559003, \"Type\": \"simulated sum\"}, {\"Tag\": \"2020-03-26T00:00:00\", \"Number of cases\": 5019.797459128435, \"Type\": \"simulated sum\"}, {\"Tag\": \"2020-03-27T00:00:00\", \"Number of cases\": 5842.269980563614, \"Type\": \"simulated sum\"}, {\"Tag\": \"2020-03-28T00:00:00\", \"Number of cases\": 6820.700537131239, \"Type\": \"simulated sum\"}, {\"Tag\": \"2020-03-29T00:00:00\", \"Number of cases\": 7250.002889819027, \"Type\": \"simulated sum\"}, {\"Tag\": \"2020-03-30T00:00:00\", \"Number of cases\": 7722.488099015716, \"Type\": \"simulated sum\"}, {\"Tag\": \"2020-03-31T00:00:00\", \"Number of cases\": 8222.001092323218, \"Type\": \"simulated sum\"}, {\"Tag\": \"2020-04-01T00:00:00\", \"Number of cases\": 8739.202423134819, \"Type\": \"simulated sum\"}, {\"Tag\": \"2020-04-02T00:00:00\", \"Number of cases\": 9268.699982723909, \"Type\": \"simulated sum\"}, {\"Tag\": \"2020-04-03T00:00:00\", \"Number of cases\": 9807.387790163004, \"Type\": \"simulated sum\"}, {\"Tag\": \"2020-04-04T00:00:00\", \"Number of cases\": 10353.483970797395, \"Type\": \"simulated sum\"}, {\"Tag\": \"2020-04-05T00:00:00\", \"Number of cases\": 10905.973573331294, \"Type\": \"simulated sum\"}, {\"Tag\": \"2020-04-06T00:00:00\", \"Number of cases\": 11464.285908577918, \"Type\": \"simulated sum\"}, {\"Tag\": \"2020-04-07T00:00:00\", \"Number of cases\": 12028.107681083031, \"Type\": \"simulated sum\"}, {\"Tag\": \"2020-04-08T00:00:00\", \"Number of cases\": 12597.274772821074, \"Type\": \"simulated sum\"}, {\"Tag\": \"2020-04-09T00:00:00\", \"Number of cases\": 13171.709561451362, \"Type\": \"simulated sum\"}, {\"Tag\": \"2020-04-10T00:00:00\", \"Number of cases\": 13751.384627392596, \"Type\": \"simulated sum\"}, {\"Tag\": \"2020-04-11T00:00:00\", \"Number of cases\": 14336.301730760108, \"Type\": \"simulated sum\"}, {\"Tag\": \"2020-04-12T00:00:00\", \"Number of cases\": 14926.479636977187, \"Type\": \"simulated sum\"}, {\"Tag\": \"2020-04-13T00:00:00\", \"Number of cases\": 15521.947068511436, \"Type\": \"simulated sum\"}, {\"Tag\": \"2020-04-14T00:00:00\", \"Number of cases\": 16122.738611902985, \"Type\": \"simulated sum\"}, {\"Tag\": \"2020-04-15T00:00:00\", \"Number of cases\": 16728.892365961743, \"Type\": \"simulated sum\"}, {\"Tag\": \"2020-04-16T00:00:00\", \"Number of cases\": 17340.448560357858, \"Type\": \"simulated sum\"}, {\"Tag\": \"2020-04-17T00:00:00\", \"Number of cases\": 17957.448772469957, \"Type\": \"simulated sum\"}, {\"Tag\": \"2020-04-18T00:00:00\", \"Number of cases\": 18579.93545531128, \"Type\": \"simulated sum\"}, {\"Tag\": \"2020-04-19T00:00:00\", \"Number of cases\": 19207.951679263264, \"Type\": \"simulated sum\"}, {\"Tag\": \"2020-04-20T00:00:00\", \"Number of cases\": 19841.540977966808, \"Type\": \"simulated sum\"}, {\"Tag\": \"2020-04-21T00:00:00\", \"Number of cases\": 20480.747251993464, \"Type\": \"simulated sum\"}, {\"Tag\": \"2020-04-22T00:00:00\", \"Number of cases\": 21125.61472424365, \"Type\": \"simulated sum\"}, {\"Tag\": \"2020-04-23T00:00:00\", \"Number of cases\": 21776.187911856934, \"Type\": \"simulated sum\"}, {\"Tag\": \"2020-04-24T00:00:00\", \"Number of cases\": 22432.51159278912, \"Type\": \"simulated sum\"}, {\"Tag\": \"2020-04-25T00:00:00\", \"Number of cases\": 23094.63080334438, \"Type\": \"simulated sum\"}, {\"Tag\": \"2020-04-26T00:00:00\", \"Number of cases\": 23762.590828178632, \"Type\": \"simulated sum\"}, {\"Tag\": \"2020-04-27T00:00:00\", \"Number of cases\": 24165.06593289673, \"Type\": \"simulated sum\"}, {\"Tag\": \"2020-04-28T00:00:00\", \"Number of cases\": 24562.55063382416, \"Type\": \"simulated sum\"}, {\"Tag\": \"2020-04-29T00:00:00\", \"Number of cases\": 24949.853135028497, \"Type\": \"simulated sum\"}, {\"Tag\": \"2020-04-30T00:00:00\", \"Number of cases\": 25324.125361058737, \"Type\": \"simulated sum\"}, {\"Tag\": \"2020-05-01T00:00:00\", \"Number of cases\": 25683.94094270688, \"Type\": \"simulated sum\"}, {\"Tag\": \"2020-05-02T00:00:00\", \"Number of cases\": 26028.7303964038, \"Type\": \"simulated sum\"}, {\"Tag\": \"2020-05-03T00:00:00\", \"Number of cases\": 26358.435421009945, \"Type\": \"simulated sum\"}, {\"Tag\": \"2020-05-04T00:00:00\", \"Number of cases\": 26673.29752760394, \"Type\": \"simulated sum\"}, {\"Tag\": \"2020-05-05T00:00:00\", \"Number of cases\": 26973.72903656416, \"Type\": \"simulated sum\"}, {\"Tag\": \"2020-05-06T00:00:00\", \"Number of cases\": 27260.23457474593, \"Type\": \"simulated sum\"}, {\"Tag\": \"2020-05-07T00:00:00\", \"Number of cases\": 27533.363504366465, \"Type\": \"simulated sum\"}, {\"Tag\": \"2020-05-08T00:00:00\", \"Number of cases\": 27793.681306172548, \"Type\": \"simulated sum\"}, {\"Tag\": \"2020-05-09T00:00:00\", \"Number of cases\": 28041.752560142602, \"Type\": \"simulated sum\"}, {\"Tag\": \"2020-05-10T00:00:00\", \"Number of cases\": 28278.13101391541, \"Type\": \"simulated sum\"}, {\"Tag\": \"2020-05-11T00:00:00\", \"Number of cases\": 28503.35397527424, \"Type\": \"simulated sum\"}, {\"Tag\": \"2020-05-12T00:00:00\", \"Number of cases\": 28717.93933402885, \"Type\": \"simulated sum\"}, {\"Tag\": \"2020-05-13T00:00:00\", \"Number of cases\": 28922.384175440464, \"Type\": \"simulated sum\"}, {\"Tag\": \"2020-05-14T00:00:00\", \"Number of cases\": 29117.16434879843, \"Type\": \"simulated sum\"}, {\"Tag\": \"2020-05-15T00:00:00\", \"Number of cases\": 29302.734601571377, \"Type\": \"simulated sum\"}, {\"Tag\": \"2020-02-21T00:00:00\", \"Number of cases\": 0, \"Type\": \"counted cases\"}, {\"Tag\": \"2020-02-22T00:00:00\", \"Number of cases\": 0, \"Type\": \"counted cases\"}, {\"Tag\": \"2020-02-23T00:00:00\", \"Number of cases\": 0, \"Type\": \"counted cases\"}, {\"Tag\": \"2020-02-24T00:00:00\", \"Number of cases\": 0, \"Type\": \"counted cases\"}, {\"Tag\": \"2020-02-25T00:00:00\", \"Number of cases\": 0, \"Type\": \"counted cases\"}, {\"Tag\": \"2020-02-26T00:00:00\", \"Number of cases\": 0, \"Type\": \"counted cases\"}, {\"Tag\": \"2020-02-27T00:00:00\", \"Number of cases\": 0, \"Type\": \"counted cases\"}, {\"Tag\": \"2020-02-28T00:00:00\", \"Number of cases\": 0, \"Type\": \"counted cases\"}, {\"Tag\": \"2020-02-29T00:00:00\", \"Number of cases\": 0, \"Type\": \"counted cases\"}, {\"Tag\": \"2020-03-01T00:00:00\", \"Number of cases\": 0, \"Type\": \"counted cases\"}, {\"Tag\": \"2020-03-02T00:00:00\", \"Number of cases\": 2, \"Type\": \"counted cases\"}, {\"Tag\": \"2020-03-03T00:00:00\", \"Number of cases\": 2, \"Type\": \"counted cases\"}, {\"Tag\": \"2020-03-04T00:00:00\", \"Number of cases\": 5, \"Type\": \"counted cases\"}, {\"Tag\": \"2020-03-05T00:00:00\", \"Number of cases\": 8, \"Type\": \"counted cases\"}, {\"Tag\": \"2020-03-06T00:00:00\", \"Number of cases\": 13, \"Type\": \"counted cases\"}, {\"Tag\": \"2020-03-07T00:00:00\", \"Number of cases\": 20, \"Type\": \"counted cases\"}, {\"Tag\": \"2020-03-08T00:00:00\", \"Number of cases\": 30, \"Type\": \"counted cases\"}, {\"Tag\": \"2020-03-09T00:00:00\", \"Number of cases\": 30, \"Type\": \"counted cases\"}, {\"Tag\": \"2020-03-10T00:00:00\", \"Number of cases\": 41, \"Type\": \"counted cases\"}, {\"Tag\": \"2020-03-11T00:00:00\", \"Number of cases\": 59, \"Type\": \"counted cases\"}, {\"Tag\": \"2020-03-12T00:00:00\", \"Number of cases\": 59, \"Type\": \"counted cases\"}, {\"Tag\": \"2020-03-13T00:00:00\", \"Number of cases\": 112, \"Type\": \"counted cases\"}, {\"Tag\": \"2020-03-14T00:00:00\", \"Number of cases\": 169, \"Type\": \"counted cases\"}, {\"Tag\": \"2020-03-15T00:00:00\", \"Number of cases\": 245, \"Type\": \"counted cases\"}, {\"Tag\": \"2020-03-16T00:00:00\", \"Number of cases\": 331, \"Type\": \"counted cases\"}, {\"Tag\": \"2020-03-17T00:00:00\", \"Number of cases\": 448, \"Type\": \"counted cases\"}, {\"Tag\": \"2020-03-18T00:00:00\", \"Number of cases\": 448, \"Type\": \"counted cases\"}, {\"Tag\": \"2020-03-19T00:00:00\", \"Number of cases\": 785, \"Type\": \"counted cases\"}, {\"Tag\": \"2020-03-20T00:00:00\", \"Number of cases\": 1020, \"Type\": \"counted cases\"}, {\"Tag\": \"2020-03-21T00:00:00\", \"Number of cases\": 1280, \"Type\": \"counted cases\"}, {\"Tag\": \"2020-03-22T00:00:00\", \"Number of cases\": 1600, \"Type\": \"counted cases\"}, {\"Tag\": \"2020-03-23T00:00:00\", \"Number of cases\": 2060, \"Type\": \"counted cases\"}, {\"Tag\": \"2020-03-24T00:00:00\", \"Number of cases\": 2362, \"Type\": \"counted cases\"}, {\"Tag\": \"2020-03-25T00:00:00\", \"Number of cases\": 2995, \"Type\": \"counted cases\"}, {\"Tag\": \"2020-03-26T00:00:00\", \"Number of cases\": 3544, \"Type\": \"counted cases\"}, {\"Tag\": \"2020-03-27T00:00:00\", \"Number of cases\": 4268, \"Type\": \"counted cases\"}, {\"Tag\": \"2020-03-28T00:00:00\", \"Number of cases\": 5170, \"Type\": \"counted cases\"}, {\"Tag\": \"2020-03-29T00:00:00\", \"Number of cases\": 5962, \"Type\": \"counted cases\"}, {\"Tag\": \"2020-03-30T00:00:00\", \"Number of cases\": 6408, \"Type\": \"counted cases\"}, {\"Tag\": \"2020-03-31T00:00:00\", \"Number of cases\": 7443, \"Type\": \"counted cases\"}, {\"Tag\": \"2020-04-01T00:00:00\", \"Number of cases\": 8251, \"Type\": \"counted cases\"}, {\"Tag\": \"2020-04-02T00:00:00\", \"Number of cases\": 9034, \"Type\": \"counted cases\"}, {\"Tag\": \"2020-04-03T00:00:00\", \"Number of cases\": 9886, \"Type\": \"counted cases\"}, {\"Tag\": \"2020-04-04T00:00:00\", \"Number of cases\": 10524, \"Type\": \"counted cases\"}, {\"Tag\": \"2020-04-05T00:00:00\", \"Number of cases\": 11278, \"Type\": \"counted cases\"}, {\"Tag\": \"2020-04-06T00:00:00\", \"Number of cases\": 11730, \"Type\": \"counted cases\"}, {\"Tag\": \"2020-04-07T00:00:00\", \"Number of cases\": 12442, \"Type\": \"counted cases\"}, {\"Tag\": \"2020-04-08T00:00:00\", \"Number of cases\": 13141, \"Type\": \"counted cases\"}, {\"Tag\": \"2020-04-09T00:00:00\", \"Number of cases\": 13956, \"Type\": \"counted cases\"}, {\"Tag\": \"2020-04-10T00:00:00\", \"Number of cases\": 15472, \"Type\": \"counted cases\"}, {\"Tag\": \"2020-04-11T00:00:00\", \"Number of cases\": 15987, \"Type\": \"counted cases\"}, {\"Tag\": \"2020-04-12T00:00:00\", \"Number of cases\": 16585, \"Type\": \"counted cases\"}, {\"Tag\": \"2020-04-13T00:00:00\", \"Number of cases\": 16934, \"Type\": \"counted cases\"}, {\"Tag\": \"2020-04-14T00:00:00\", \"Number of cases\": 17448, \"Type\": \"counted cases\"}, {\"Tag\": \"2020-04-15T00:00:00\", \"Number of cases\": 18091, \"Type\": \"counted cases\"}, {\"Tag\": \"2020-04-16T00:00:00\", \"Number of cases\": 18841, \"Type\": \"counted cases\"}, {\"Tag\": \"2020-04-17T00:00:00\", \"Number of cases\": 19022, \"Type\": \"counted cases\"}, {\"Tag\": \"2020-04-18T00:00:00\", \"Number of cases\": 19685, \"Type\": \"counted cases\"}, {\"Tag\": \"2020-04-19T00:00:00\", \"Number of cases\": 20206, \"Type\": \"counted cases\"}, {\"Tag\": \"2020-04-20T00:00:00\", \"Number of cases\": 20863, \"Type\": \"counted cases\"}, {\"Tag\": \"2020-04-21T00:00:00\", \"Number of cases\": 21379, \"Type\": \"counted cases\"}, {\"Tag\": \"2020-04-22T00:00:00\", \"Number of cases\": 21982, \"Type\": \"counted cases\"}, {\"Tag\": \"2020-04-23T00:00:00\", \"Number of cases\": 22353, \"Type\": \"counted cases\"}, {\"Tag\": \"2020-04-24T00:00:00\", \"Number of cases\": 22797, \"Type\": \"counted cases\"}, {\"Tag\": \"2020-04-25T00:00:00\", \"Number of cases\": 23392, \"Type\": \"counted cases\"}, {\"Tag\": \"2020-04-26T00:00:00\", \"Number of cases\": 23864, \"Type\": \"counted cases\"}, {\"Tag\": \"2020-04-27T00:00:00\", \"Number of cases\": 24027, \"Type\": \"counted cases\"}, {\"Tag\": \"2020-04-28T00:00:00\", \"Number of cases\": 24322, \"Type\": \"counted cases\"}, {\"Tag\": \"2020-04-29T00:00:00\", \"Number of cases\": 24505, \"Type\": \"counted cases\"}, {\"Tag\": \"2020-04-30T00:00:00\", \"Number of cases\": 25045, \"Type\": \"counted cases\"}, {\"Tag\": \"2020-05-01T00:00:00\", \"Number of cases\": 25351, \"Type\": \"counted cases\"}, {\"Tag\": \"2020-05-02T00:00:00\", \"Number of cases\": 25190, \"Type\": \"counted cases\"}, {\"Tag\": \"2020-05-03T00:00:00\", \"Number of cases\": 25282, \"Type\": \"counted cases\"}, {\"Tag\": \"2020-05-04T00:00:00\", \"Number of cases\": 25524, \"Type\": \"counted cases\"}, {\"Tag\": \"2020-05-05T00:00:00\", \"Number of cases\": 25702, \"Type\": \"counted cases\"}, {\"Tag\": \"2020-05-06T00:00:00\", \"Number of cases\": 26182, \"Type\": \"counted cases\"}, {\"Tag\": \"2020-05-07T00:00:00\", \"Number of cases\": 26715, \"Type\": \"counted cases\"}, {\"Tag\": \"2020-05-08T00:00:00\", \"Number of cases\": 27268, \"Type\": \"counted cases\"}, {\"Tag\": \"2020-05-09T00:00:00\", \"Number of cases\": 27406, \"Type\": \"counted cases\"}, {\"Tag\": \"2020-05-10T00:00:00\", \"Number of cases\": 27581, \"Type\": \"counted cases\"}]}}, {\"mode\": \"vega-lite\"});\n",
       "</script>"
      ],
      "text/plain": [
       "alt.LayerChart(...)"
      ]
     },
     "execution_count": 7,
     "metadata": {},
     "output_type": "execute_result"
    }
   ],
   "source": [
    "def plot(data, legendX=20, legendY=20, width=830, height=400):\n",
    "    line = alt.Chart(data).mark_line(point=False).encode(\n",
    "        alt.X(\"Tag\", title=\"Tag\"),\n",
    "        alt.Y(\"Number of cases:Q\", title=\"Number of Cases\"),\n",
    "        color=alt.Color(\"Type:N\", \n",
    "                        scale=alt.Scale(scheme=\"dark2\"),\n",
    "                        legend=alt.Legend(\n",
    "            orient=\"none\", legendX=legendX, legendY=legendY,\n",
    "            fillColor=\"white\", strokeColor=\"black\", cornerRadius=7, padding=6,\n",
    "            title=\"Groups\"))\n",
    "    )\n",
    "    nearest = alt.selection(type='single', nearest=True, on='mouseover',\n",
    "                            fields=['Tag'], empty='none')\n",
    "    selectors = alt.Chart(data).mark_point().encode(\n",
    "        alt.X(\"Tag\", title=\"Tag\"),\n",
    "        opacity=alt.value(0),\n",
    "    ).add_selection(nearest)\n",
    "    points = line.mark_point().encode(\n",
    "        opacity=alt.condition(nearest, alt.value(1), alt.value(0))\n",
    "    )\n",
    "    text = line.mark_text(align='left', dx=4, dy=-8).encode(\n",
    "        text=alt.condition(nearest, 'Number of cases:Q', alt.value(' '))\n",
    "    )\n",
    "    rules = alt.Chart(data).mark_rule(color='gray').encode(\n",
    "        alt.X(\"Tag\", title=\"Tag\"),\n",
    "    ).transform_filter(nearest)\n",
    "    date_text = rules.mark_text(align='left', dx=4, dy=-8).encode(\n",
    "        y=alt.value(16),\n",
    "        color=alt.value('gray'),\n",
    "        text=alt.condition(nearest, 'Tag', alt.value(' '))\n",
    "    )\n",
    "    return alt.layer(\n",
    "        line, selectors, points, rules, text, date_text\n",
    "    ).properties(width=width, height=height)\n",
    "  \n",
    "chart = plot(seir_data)\n",
    "chart"
   ]
  },
  {
   "cell_type": "code",
   "execution_count": 8,
   "metadata": {},
   "outputs": [
    {
     "ename": "ValueError",
     "evalue": "No enabled saver found that supports format='png'",
     "output_type": "error",
     "traceback": [
      "\u001b[1;31m---------------------------------------------------------------------------\u001b[0m",
      "\u001b[1;31mValueError\u001b[0m                                Traceback (most recent call last)",
      "\u001b[1;32m<ipython-input-8-660835566cd7>\u001b[0m in \u001b[0;36m<module>\u001b[1;34m\u001b[0m\n\u001b[0;32m      6\u001b[0m         \u001b[0mdisplay\u001b[0m\u001b[1;33m(\u001b[0m\u001b[0mSVG\u001b[0m\u001b[1;33m(\u001b[0m\u001b[0mf\u001b[0m\u001b[1;33m.\u001b[0m\u001b[0mread\u001b[0m\u001b[1;33m(\u001b[0m\u001b[1;33m)\u001b[0m\u001b[1;33m)\u001b[0m\u001b[1;33m)\u001b[0m\u001b[1;33m\u001b[0m\u001b[1;33m\u001b[0m\u001b[0m\n\u001b[0;32m      7\u001b[0m \u001b[1;33m\u001b[0m\u001b[0m\n\u001b[1;32m----> 8\u001b[1;33m \u001b[0msave_and_display\u001b[0m\u001b[1;33m(\u001b[0m\u001b[0mchart\u001b[0m\u001b[1;33m,\u001b[0m \u001b[1;34m\"fit-quality\"\u001b[0m\u001b[1;33m)\u001b[0m\u001b[1;33m\u001b[0m\u001b[1;33m\u001b[0m\u001b[0m\n\u001b[0m",
      "\u001b[1;32m<ipython-input-8-660835566cd7>\u001b[0m in \u001b[0;36msave_and_display\u001b[1;34m(chart, filename)\u001b[0m\n\u001b[0;32m      1\u001b[0m \u001b[1;32mdef\u001b[0m \u001b[0msave_and_display\u001b[0m\u001b[1;33m(\u001b[0m\u001b[0mchart\u001b[0m\u001b[1;33m,\u001b[0m \u001b[0mfilename\u001b[0m\u001b[1;33m)\u001b[0m\u001b[1;33m:\u001b[0m\u001b[1;33m\u001b[0m\u001b[1;33m\u001b[0m\u001b[0m\n\u001b[0;32m      2\u001b[0m     \u001b[1;31m#chart.save(os.path.join(\"charts\", filename + \".svg\"))\u001b[0m\u001b[1;33m\u001b[0m\u001b[1;33m\u001b[0m\u001b[1;33m\u001b[0m\u001b[0m\n\u001b[1;32m----> 3\u001b[1;33m     \u001b[0mchart\u001b[0m\u001b[1;33m.\u001b[0m\u001b[0msave\u001b[0m\u001b[1;33m(\u001b[0m\u001b[0mos\u001b[0m\u001b[1;33m.\u001b[0m\u001b[0mpath\u001b[0m\u001b[1;33m.\u001b[0m\u001b[0mjoin\u001b[0m\u001b[1;33m(\u001b[0m\u001b[1;34m\"charts\"\u001b[0m\u001b[1;33m,\u001b[0m \u001b[0mfilename\u001b[0m \u001b[1;33m+\u001b[0m \u001b[1;34m\".png\"\u001b[0m\u001b[1;33m)\u001b[0m\u001b[1;33m)\u001b[0m\u001b[1;33m\u001b[0m\u001b[1;33m\u001b[0m\u001b[0m\n\u001b[0m\u001b[0;32m      4\u001b[0m     \u001b[0mchart\u001b[0m\u001b[1;33m.\u001b[0m\u001b[0msave\u001b[0m\u001b[1;33m(\u001b[0m\u001b[0mos\u001b[0m\u001b[1;33m.\u001b[0m\u001b[0mpath\u001b[0m\u001b[1;33m.\u001b[0m\u001b[0mjoin\u001b[0m\u001b[1;33m(\u001b[0m\u001b[1;34m\"charts\"\u001b[0m\u001b[1;33m,\u001b[0m \u001b[0mfilename\u001b[0m \u001b[1;33m+\u001b[0m \u001b[1;34m\".html\"\u001b[0m\u001b[1;33m)\u001b[0m\u001b[1;33m)\u001b[0m\u001b[1;33m\u001b[0m\u001b[1;33m\u001b[0m\u001b[0m\n\u001b[0;32m      5\u001b[0m     \u001b[1;32mwith\u001b[0m \u001b[0mopen\u001b[0m\u001b[1;33m(\u001b[0m\u001b[0mos\u001b[0m\u001b[1;33m.\u001b[0m\u001b[0mpath\u001b[0m\u001b[1;33m.\u001b[0m\u001b[0mjoin\u001b[0m\u001b[1;33m(\u001b[0m\u001b[1;34m\"charts\"\u001b[0m\u001b[1;33m,\u001b[0m \u001b[0mfilename\u001b[0m \u001b[1;33m+\u001b[0m \u001b[1;34m\".svg\"\u001b[0m\u001b[1;33m)\u001b[0m\u001b[1;33m,\u001b[0m \u001b[1;34m'r'\u001b[0m\u001b[1;33m)\u001b[0m \u001b[1;32mas\u001b[0m \u001b[0mf\u001b[0m\u001b[1;33m:\u001b[0m\u001b[1;33m\u001b[0m\u001b[1;33m\u001b[0m\u001b[0m\n",
      "\u001b[1;32mC:\\ProgramData\\Anaconda3\\lib\\site-packages\\altair\\vegalite\\v4\\api.py\u001b[0m in \u001b[0;36msave\u001b[1;34m(self, fp, format, override_data_transformer, scale_factor, vegalite_version, vega_version, vegaembed_version, **kwargs)\u001b[0m\n\u001b[0;32m    474\u001b[0m         \u001b[1;32mif\u001b[0m \u001b[0moverride_data_transformer\u001b[0m\u001b[1;33m:\u001b[0m\u001b[1;33m\u001b[0m\u001b[1;33m\u001b[0m\u001b[0m\n\u001b[0;32m    475\u001b[0m             \u001b[1;32mwith\u001b[0m \u001b[0mdata_transformers\u001b[0m\u001b[1;33m.\u001b[0m\u001b[0mdisable_max_rows\u001b[0m\u001b[1;33m(\u001b[0m\u001b[1;33m)\u001b[0m\u001b[1;33m:\u001b[0m\u001b[1;33m\u001b[0m\u001b[1;33m\u001b[0m\u001b[0m\n\u001b[1;32m--> 476\u001b[1;33m                 \u001b[0mresult\u001b[0m \u001b[1;33m=\u001b[0m \u001b[0msave\u001b[0m\u001b[1;33m(\u001b[0m\u001b[1;33m**\u001b[0m\u001b[0mkwds\u001b[0m\u001b[1;33m)\u001b[0m\u001b[1;33m\u001b[0m\u001b[1;33m\u001b[0m\u001b[0m\n\u001b[0m\u001b[0;32m    477\u001b[0m         \u001b[1;32melse\u001b[0m\u001b[1;33m:\u001b[0m\u001b[1;33m\u001b[0m\u001b[1;33m\u001b[0m\u001b[0m\n\u001b[0;32m    478\u001b[0m             \u001b[0mresult\u001b[0m \u001b[1;33m=\u001b[0m \u001b[0msave\u001b[0m\u001b[1;33m(\u001b[0m\u001b[1;33m**\u001b[0m\u001b[0mkwds\u001b[0m\u001b[1;33m)\u001b[0m\u001b[1;33m\u001b[0m\u001b[1;33m\u001b[0m\u001b[0m\n",
      "\u001b[1;32mC:\\ProgramData\\Anaconda3\\lib\\site-packages\\altair\\utils\\save.py\u001b[0m in \u001b[0;36msave\u001b[1;34m(chart, fp, vega_version, vegaembed_version, format, mode, vegalite_version, embed_options, json_kwds, webdriver, scale_factor, **kwargs)\u001b[0m\n\u001b[0;32m    119\u001b[0m             \u001b[0mwebdriver\u001b[0m\u001b[1;33m=\u001b[0m\u001b[0mwebdriver\u001b[0m\u001b[1;33m,\u001b[0m\u001b[1;33m\u001b[0m\u001b[1;33m\u001b[0m\u001b[0m\n\u001b[0;32m    120\u001b[0m             \u001b[0mscale_factor\u001b[0m\u001b[1;33m=\u001b[0m\u001b[0mscale_factor\u001b[0m\u001b[1;33m,\u001b[0m\u001b[1;33m\u001b[0m\u001b[1;33m\u001b[0m\u001b[0m\n\u001b[1;32m--> 121\u001b[1;33m             \u001b[1;33m**\u001b[0m\u001b[0mkwargs\u001b[0m\u001b[1;33m,\u001b[0m\u001b[1;33m\u001b[0m\u001b[1;33m\u001b[0m\u001b[0m\n\u001b[0m\u001b[0;32m    122\u001b[0m         )\n\u001b[0;32m    123\u001b[0m         \u001b[1;32mif\u001b[0m \u001b[0mformat\u001b[0m \u001b[1;33m==\u001b[0m \u001b[1;34m\"png\"\u001b[0m\u001b[1;33m:\u001b[0m\u001b[1;33m\u001b[0m\u001b[1;33m\u001b[0m\u001b[0m\n",
      "\u001b[1;32mC:\\ProgramData\\Anaconda3\\lib\\site-packages\\altair\\utils\\mimebundle.py\u001b[0m in \u001b[0;36mspec_to_mimebundle\u001b[1;34m(spec, format, mode, vega_version, vegaembed_version, vegalite_version, **kwargs)\u001b[0m\n\u001b[0;32m     58\u001b[0m                 \u001b[1;34m\"see http://github.com/altair-viz/altair_saver/\"\u001b[0m\u001b[1;33m.\u001b[0m\u001b[0mformat\u001b[0m\u001b[1;33m(\u001b[0m\u001b[0mfmt\u001b[0m\u001b[1;33m=\u001b[0m\u001b[0mformat\u001b[0m\u001b[1;33m)\u001b[0m\u001b[1;33m\u001b[0m\u001b[1;33m\u001b[0m\u001b[0m\n\u001b[0;32m     59\u001b[0m             )\n\u001b[1;32m---> 60\u001b[1;33m         \u001b[1;32mreturn\u001b[0m \u001b[0maltair_saver\u001b[0m\u001b[1;33m.\u001b[0m\u001b[0mrender\u001b[0m\u001b[1;33m(\u001b[0m\u001b[0mspec\u001b[0m\u001b[1;33m,\u001b[0m \u001b[0mformat\u001b[0m\u001b[1;33m,\u001b[0m \u001b[0mmode\u001b[0m\u001b[1;33m=\u001b[0m\u001b[0mmode\u001b[0m\u001b[1;33m,\u001b[0m \u001b[1;33m**\u001b[0m\u001b[0mkwargs\u001b[0m\u001b[1;33m)\u001b[0m\u001b[1;33m\u001b[0m\u001b[1;33m\u001b[0m\u001b[0m\n\u001b[0m\u001b[0;32m     61\u001b[0m     \u001b[1;32mif\u001b[0m \u001b[0mformat\u001b[0m \u001b[1;33m==\u001b[0m \u001b[1;34m\"html\"\u001b[0m\u001b[1;33m:\u001b[0m\u001b[1;33m\u001b[0m\u001b[1;33m\u001b[0m\u001b[0m\n\u001b[0;32m     62\u001b[0m         html = spec_to_html(\n",
      "\u001b[1;32mC:\\ProgramData\\Anaconda3\\lib\\site-packages\\altair_saver\\_core.py\u001b[0m in \u001b[0;36mrender\u001b[1;34m(chart, fmts, mode, embed_options, method, **kwargs)\u001b[0m\n\u001b[0;32m    253\u001b[0m \u001b[1;33m\u001b[0m\u001b[0m\n\u001b[0;32m    254\u001b[0m     \u001b[1;32mfor\u001b[0m \u001b[0mfmt\u001b[0m \u001b[1;32min\u001b[0m \u001b[0mfmts\u001b[0m\u001b[1;33m:\u001b[0m\u001b[1;33m\u001b[0m\u001b[1;33m\u001b[0m\u001b[0m\n\u001b[1;32m--> 255\u001b[1;33m         \u001b[0mSaver\u001b[0m \u001b[1;33m=\u001b[0m \u001b[0m_select_saver\u001b[0m\u001b[1;33m(\u001b[0m\u001b[0mmethod\u001b[0m\u001b[1;33m,\u001b[0m \u001b[0mmode\u001b[0m\u001b[1;33m=\u001b[0m\u001b[0mmode\u001b[0m\u001b[1;33m,\u001b[0m \u001b[0mfmt\u001b[0m\u001b[1;33m=\u001b[0m\u001b[0mfmt\u001b[0m\u001b[1;33m)\u001b[0m\u001b[1;33m\u001b[0m\u001b[1;33m\u001b[0m\u001b[0m\n\u001b[0m\u001b[0;32m    256\u001b[0m         \u001b[0msaver\u001b[0m \u001b[1;33m=\u001b[0m \u001b[0mSaver\u001b[0m\u001b[1;33m(\u001b[0m\u001b[0mspec\u001b[0m\u001b[1;33m,\u001b[0m \u001b[0mmode\u001b[0m\u001b[1;33m=\u001b[0m\u001b[0mmode\u001b[0m\u001b[1;33m,\u001b[0m \u001b[0membed_options\u001b[0m\u001b[1;33m=\u001b[0m\u001b[0membed_options\u001b[0m\u001b[1;33m,\u001b[0m \u001b[1;33m**\u001b[0m\u001b[0mkwargs\u001b[0m\u001b[1;33m)\u001b[0m\u001b[1;33m\u001b[0m\u001b[1;33m\u001b[0m\u001b[0m\n\u001b[0;32m    257\u001b[0m         \u001b[0mmimebundle\u001b[0m\u001b[1;33m.\u001b[0m\u001b[0mupdate\u001b[0m\u001b[1;33m(\u001b[0m\u001b[0msaver\u001b[0m\u001b[1;33m.\u001b[0m\u001b[0mmimebundle\u001b[0m\u001b[1;33m(\u001b[0m\u001b[0mfmt\u001b[0m\u001b[1;33m)\u001b[0m\u001b[1;33m)\u001b[0m\u001b[1;33m\u001b[0m\u001b[1;33m\u001b[0m\u001b[0m\n",
      "\u001b[1;32mC:\\ProgramData\\Anaconda3\\lib\\site-packages\\altair_saver\\_core.py\u001b[0m in \u001b[0;36m_select_saver\u001b[1;34m(method, mode, fmt, fp)\u001b[0m\n\u001b[0;32m     67\u001b[0m             \u001b[1;32mif\u001b[0m \u001b[0ms\u001b[0m\u001b[1;33m.\u001b[0m\u001b[0menabled\u001b[0m\u001b[1;33m(\u001b[0m\u001b[1;33m)\u001b[0m \u001b[1;32mand\u001b[0m \u001b[0mfmt\u001b[0m \u001b[1;32min\u001b[0m \u001b[0ms\u001b[0m\u001b[1;33m.\u001b[0m\u001b[0mvalid_formats\u001b[0m\u001b[1;33m[\u001b[0m\u001b[0mmode\u001b[0m\u001b[1;33m]\u001b[0m\u001b[1;33m:\u001b[0m\u001b[1;33m\u001b[0m\u001b[1;33m\u001b[0m\u001b[0m\n\u001b[0;32m     68\u001b[0m                 \u001b[1;32mreturn\u001b[0m \u001b[0ms\u001b[0m\u001b[1;33m\u001b[0m\u001b[1;33m\u001b[0m\u001b[0m\n\u001b[1;32m---> 69\u001b[1;33m         \u001b[1;32mraise\u001b[0m \u001b[0mValueError\u001b[0m\u001b[1;33m(\u001b[0m\u001b[1;34mf\"No enabled saver found that supports format={fmt!r}\"\u001b[0m\u001b[1;33m)\u001b[0m\u001b[1;33m\u001b[0m\u001b[1;33m\u001b[0m\u001b[0m\n\u001b[0m\u001b[0;32m     70\u001b[0m     \u001b[1;32melse\u001b[0m\u001b[1;33m:\u001b[0m\u001b[1;33m\u001b[0m\u001b[1;33m\u001b[0m\u001b[0m\n\u001b[0;32m     71\u001b[0m         \u001b[1;32mraise\u001b[0m \u001b[0mValueError\u001b[0m\u001b[1;33m(\u001b[0m\u001b[1;34mf\"Unrecognized method: {method}\"\u001b[0m\u001b[1;33m)\u001b[0m\u001b[1;33m\u001b[0m\u001b[1;33m\u001b[0m\u001b[0m\n",
      "\u001b[1;31mValueError\u001b[0m: No enabled saver found that supports format='png'"
     ]
    }
   ],
   "source": [
    "def save_and_display(chart, filename):\n",
    "    chart.save(os.path.join(\"charts\", filename + \".svg\"))\n",
    "    chart.save(os.path.join(\"charts\", filename + \".png\"))\n",
    "    chart.save(os.path.join(\"charts\", filename + \".html\"))\n",
    "    with open(os.path.join(\"charts\", filename + \".svg\"), 'r') as f:\n",
    "        display(SVG(f.read()))\n",
    "\n",
    "save_and_display(chart, \"fit-quality\")"
   ]
  },
  {
   "cell_type": "markdown",
   "metadata": {},
   "source": [
    "It is easy to see in the diagram that the model follows the real numbers with small deviations.\n",
    "\n",
    "On this basis, you can now calculate a forecast for the next 800 days:"
   ]
  },
  {
   "cell_type": "code",
   "execution_count": null,
   "metadata": {},
   "outputs": [],
   "source": [
    "def prediction(prediction_days=365, max_val=bev_de, r4=r3, r5=r3,\n",
    "               it1 = dt.datetime(year=2020, month=3, day=14),\n",
    "               it2 = dt.datetime(year=2020, month=3, day=20),\n",
    "               it3 = dt.datetime(year=2020, month=4, day=27),\n",
    "               it4 = dt.datetime(year=2020, month=5, day=4),\n",
    "               it5 = dt.datetime(year=2020, month=5, day=4)):\n",
    "    cases = np.array(data[\"Number of cases\"])\n",
    "    times = np.arange(0., len(cases), 1.0)\n",
    "    model = SEIR(p0=(bev_de-data[\"Number of cases\"][0], 0, data[\"Number of cases\"][0], 0),\n",
    "                 intervention_times=[(it1-data[\"Tag\"][0]).days, \n",
    "                                     (it2-data[\"Tag\"][0]).days, \n",
    "                                     (it3-data[\"Tag\"][0]).days, \n",
    "                                     (it4-data[\"Tag\"][0]).days,\n",
    "                                     (it5-data[\"Tag\"][0]).days],\n",
    "                 t_vals=times)\n",
    "    times = np.arange(0., len(cases)+prediction_days, 1.0)\n",
    "    seir_predictions = model.getSEIR(times, [r0, r1, r2, r3, r4, r5], e0)\n",
    "    sum_predictions = np.sum(seir_predictions[:, 1:], axis=1)\n",
    "    dates = [data[\"Tag\"][0] + dt.timedelta(days=i) for i in times]\n",
    "    seir_data = pd.DataFrame(np.concatenate([\n",
    "        np.concatenate([np.stack([dates, clip_values(seir_predictions[:, i], max_val), [t]*len(times)], axis=1)\n",
    "                        for i, t in enumerate([\"Susceptible\", \"Exposed\", \"Infectious\", \"Removed\"])]),\n",
    "        np.stack([dates, clip_values(sum_predictions, max_val), [\"simuleted sum\"]*len(times)], axis=1)]),\n",
    "        columns=(\"Tag\", \"Number of cases\", \"Type\")\n",
    "    )\n",
    "    data[\"Type\"] = \"counted cases\"\n",
    "    return seir_data.append(data, ignore_index=True)\n",
    "\n",
    "chart = plot(prediction(prediction_days=800), legendY=50, height=300)\n",
    "chart"
   ]
  },
  {
   "cell_type": "code",
   "execution_count": null,
   "metadata": {},
   "outputs": [],
   "source": [
    "#save_and_display(chart, \"800_days\")"
   ]
  },
  {
   "cell_type": "markdown",
   "metadata": {},
   "source": [
    "\n",
    "The flat curve shows that there will be few simultaneous infections thanks to the current restrictions. The health care system will cope with such a flat peak.\n",
    "\n",
    "The curve will be more spectacular if the restrictions would end on May 3, increasing $ R_ {0} $ to before March 20:"
   ]
  },
  {
   "cell_type": "code",
   "execution_count": null,
   "metadata": {},
   "outputs": [],
   "source": [
    "chart = plot(prediction(prediction_days=100, r4=r0, r5=r0), legendY=50, height=225)\n",
    "chart"
   ]
  },
  {
   "cell_type": "code",
   "execution_count": null,
   "metadata": {},
   "outputs": [],
   "source": [
    "save_and_display(chart, \"second_peak\")"
   ]
  },
  {
   "cell_type": "markdown",
   "metadata": {},
   "source": [
    "If you restrict the values a bit, the enormous peak becomes visible:"
   ]
  },
  {
   "cell_type": "code",
   "execution_count": null,
   "metadata": {},
   "outputs": [],
   "source": [
    "chart = plot(prediction(prediction_days=95, max_val=12000000, r4=r0, r5=r0))\n",
    "chart"
   ]
  },
  {
   "cell_type": "code",
   "execution_count": null,
   "metadata": {},
   "outputs": [],
   "source": [
    "save_and_display(chart, \"second_peak_detail\")"
   ]
  },
  {
   "cell_type": "markdown",
   "metadata": {},
   "source": [
    "Now for a few calculation models to play around with: `it4` and` it5` are two days on which measures are relaxed. We preset January 1, 2021, from which only exit restrictions apply. This means `r4 = r1`, since the reproduction number $ R_ {0} $ climbs back to the value before the contact block as soon as it is released. Since the spread then continues to be slowed down by the initial restrictions, a second outbreak results, which does not increase as steeply as without restrictions.\n",
    "\n",
    "On February 20, 2021 (`it5`), the initial restrictions will also be lifted in our default setting. $ R_ {0} $ therefore rises again to the value before all measures, so `r5 = r0`.\n",
    "\n",
    "In addition, you can use `prediction_days` to set how far the simulation calculates in the future. `max_val` hides values ​​that are too high in the diagram, so that the y-axis does not have to display a value calculation that is too large and smaller curves can be better recognized.\n",
    "\n",
    "Feel free to play around with the values behind the comments and create your own scenarios for relaxing the restrictions:"
   ]
  },
  {
   "cell_type": "code",
   "execution_count": null,
   "metadata": {},
   "outputs": [],
   "source": [
    "# Day of the removal of the contact block\n",
    "it4 = dt.datetime(year=2021, month=1, day=1)\n",
    "\n",
    "# Expected number of reproductions after removal of the contact block\n",
    "r4 = r1\n",
    "\n",
    "\n",
    "# Day of lifting of exit restrictions\n",
    "it5 = dt.datetime(year=2021, month=2, day=20)\n",
    "\n",
    "# Expected number of reproductions after removal of the contact block\n",
    "r5 = r0\n",
    "\n",
    "\n",
    "# Number of days the simulation calculates in the future\n",
    "prediction_days=500\n",
    "\n",
    "# Highest value in the diagram (so that the y-axis does not compress the interesting values ​​too much)\n",
    "max_val=12000000\n",
    "\n",
    "chart = plot(prediction(prediction_days=prediction_days, max_val=max_val, r4=r4, r5=r5, it4=it4, it5=it5))\n",
    "chart"
   ]
  },
  {
   "cell_type": "code",
   "execution_count": null,
   "metadata": {},
   "outputs": [],
   "source": [
    "save_and_display(chart, \"loose-restrictions\")"
   ]
  },
  {
   "cell_type": "markdown",
   "metadata": {},
   "source": [
    "For an interesting variant of the simulation, just set $ R_ {0} $ to values that were not calculated by `curve_fit ()`. For example, after the intervention days, values for $ R_ {0} $ that are less than 1 ensure that the peak is over on this day. For example, very small $ R_ {0} $ would provide accurate tracking and isolation of the infected. The following diagram is purely hypothetical because of the invented values:"
   ]
  },
  {
   "cell_type": "code",
   "execution_count": null,
   "metadata": {},
   "outputs": [],
   "source": [
    "# Day of the removal of the contact block\n",
    "it4 = dt.datetime(year=2020, month=7, day=1)\n",
    "\n",
    "# Expected number of reproductions after removal of the contact block\n",
    "r4 = 0.99\n",
    "\n",
    "\n",
    "# Day of lifting of exit restrictions\n",
    "it5 = dt.datetime(year=2020, month=9, day=1)\n",
    "# Expected number of reproductions after removal of the contact block\n",
    "r5 = 0.75\n",
    "\n",
    "\n",
    "# Number of days the simulation calculates in the future\n",
    "prediction_days=150\n",
    "\n",
    "# Highest value in the diagram (so that the y-axis does not compress the interesting values ​​too much)\n",
    "max_val=800000\n",
    "\n",
    "chart = plot(prediction(prediction_days=prediction_days, max_val=max_val, r4=r4, r5=r5, it4=it4, it5=it5))\n",
    "chart"
   ]
  },
  {
   "cell_type": "code",
   "execution_count": null,
   "metadata": {},
   "outputs": [],
   "source": [
    "save_and_display(chart, \"dreamed-infection-rates\")"
   ]
  },
  {
   "cell_type": "code",
   "execution_count": null,
   "metadata": {},
   "outputs": [],
   "source": []
  },
  {
   "cell_type": "code",
   "execution_count": null,
   "metadata": {},
   "outputs": [],
   "source": []
  }
 ],
 "metadata": {
  "kernelspec": {
   "display_name": "Python 3",
   "language": "python",
   "name": "python3"
  },
  "language_info": {
   "codemirror_mode": {
    "name": "ipython",
    "version": 3
   },
   "file_extension": ".py",
   "mimetype": "text/x-python",
   "name": "python",
   "nbconvert_exporter": "python",
   "pygments_lexer": "ipython3",
   "version": "3.7.6"
  }
 },
 "nbformat": 4,
 "nbformat_minor": 4
}
